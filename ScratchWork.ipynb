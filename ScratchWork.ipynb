{
 "cells": [
  {
   "cell_type": "code",
   "execution_count": 2,
   "id": "f3f96c00",
   "metadata": {},
   "outputs": [
    {
     "data": {
      "text/html": [
       "<div>\n",
       "<style scoped>\n",
       "    .dataframe tbody tr th:only-of-type {\n",
       "        vertical-align: middle;\n",
       "    }\n",
       "\n",
       "    .dataframe tbody tr th {\n",
       "        vertical-align: top;\n",
       "    }\n",
       "\n",
       "    .dataframe thead th {\n",
       "        text-align: right;\n",
       "    }\n",
       "</style>\n",
       "<table border=\"1\" class=\"dataframe\">\n",
       "  <thead>\n",
       "    <tr style=\"text-align: right;\">\n",
       "      <th></th>\n",
       "      <th>MODEL</th>\n",
       "      <th>DESCRIPTION</th>\n",
       "      <th>CLASSIFICATION ACCURACY</th>\n",
       "    </tr>\n",
       "  </thead>\n",
       "  <tbody>\n",
       "    <tr>\n",
       "      <th>0</th>\n",
       "      <td>Model 1</td>\n",
       "      <td>Unsupervised_NMF</td>\n",
       "      <td>0.6929</td>\n",
       "    </tr>\n",
       "    <tr>\n",
       "      <th>1</th>\n",
       "      <td>Model 2</td>\n",
       "      <td>SVD_KMeans_Unsupervised</td>\n",
       "      <td>0.8641</td>\n",
       "    </tr>\n",
       "    <tr>\n",
       "      <th>2</th>\n",
       "      <td>Model 3</td>\n",
       "      <td>TFIDF_XGBoost_Supervised</td>\n",
       "      <td>0.9581</td>\n",
       "    </tr>\n",
       "    <tr>\n",
       "      <th>3</th>\n",
       "      <td>Model 4</td>\n",
       "      <td>GloVe_LSTM_Supervised</td>\n",
       "      <td>0.9595</td>\n",
       "    </tr>\n",
       "  </tbody>\n",
       "</table>\n",
       "</div>"
      ],
      "text/plain": [
       "     MODEL               DESCRIPTION  CLASSIFICATION ACCURACY\n",
       "0  Model 1          Unsupervised_NMF                   0.6929\n",
       "1  Model 2   SVD_KMeans_Unsupervised                   0.8641\n",
       "2  Model 3  TFIDF_XGBoost_Supervised                   0.9581\n",
       "3  Model 4     GloVe_LSTM_Supervised                   0.9595"
      ]
     },
     "metadata": {},
     "output_type": "display_data"
    }
   ],
   "source": [
    "import pandas as pd\n",
    "\n",
    "model_accuracy = [ 0.6929, 0.8641, 0.9581, 0.9595]\n",
    "model = ['Model 1','Model 2','Model 3','Model 4']\n",
    "description = ['Unsupervised_NMF','SVD_KMeans_Unsupervised','TFIDF_XGBoost_Supervised','GloVe_LSTM_Supervised']\n",
    "\n",
    "df = pd.DataFrame({'MODEL': model, 'DESCRIPTION': description, 'CLASSIFICATION ACCURACY': model_accuracy})\n",
    "display(df)\n",
    "df.to_csv('data/model_comparison.csv',index=False)"
   ]
  },
  {
   "cell_type": "code",
   "execution_count": null,
   "id": "53aa3bc6",
   "metadata": {},
   "outputs": [],
   "source": []
  }
 ],
 "metadata": {
  "kernelspec": {
   "display_name": "Python 3 (ipykernel)",
   "language": "python",
   "name": "python3"
  },
  "language_info": {
   "codemirror_mode": {
    "name": "ipython",
    "version": 3
   },
   "file_extension": ".py",
   "mimetype": "text/x-python",
   "name": "python",
   "nbconvert_exporter": "python",
   "pygments_lexer": "ipython3",
   "version": "3.9.12"
  }
 },
 "nbformat": 4,
 "nbformat_minor": 5
}
