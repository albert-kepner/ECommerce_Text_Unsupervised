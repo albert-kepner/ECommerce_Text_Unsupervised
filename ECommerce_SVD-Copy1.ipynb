{
 "cells": [
  {
   "cell_type": "markdown",
   "id": "2502b9f7",
   "metadata": {},
   "source": [
    "# ECommerce_Text_Supervised"
   ]
  },
  {
   "cell_type": "markdown",
   "id": "f557e53b",
   "metadata": {},
   "source": [
    "## Project Overview"
   ]
  },
  {
   "cell_type": "markdown",
   "id": "2dd21b37",
   "metadata": {},
   "source": [
    "This part of the project will used supervised methods to classify textual product descriptions from E-commerce websites. The data are from this Kaggle dataset: https://www.kaggle.com/datasets/saurabhshahane/ecommerce-text-classification . The data are all labeled with 4 classes: \"Electronics\", \"Household\", \"Books\" and \"Clothing & Accessories\". So the dataset is suitable for a supervised multiclass classification task. We are using a supervised method here to compare with unsupervised methods in another notebook."
   ]
  },
  {
   "cell_type": "markdown",
   "id": "6a3c5cb5",
   "metadata": {},
   "source": [
    "## Project Organization"
   ]
  },
  {
   "cell_type": "markdown",
   "id": "f2957f62",
   "metadata": {},
   "source": [
    "## Data Loading and Exploratory Data Analysis"
   ]
  },
  {
   "cell_type": "code",
   "execution_count": 1,
   "id": "ee08e86d",
   "metadata": {},
   "outputs": [],
   "source": [
    "import gensim\n",
    "import nltk\n",
    "import numpy as np\n",
    "import pandas as pd\n",
    "import re\n",
    "from sklearn.feature_extraction.text import ENGLISH_STOP_WORDS\n",
    "from sklearn.decomposition import NMF\n",
    "from sklearn.feature_extraction.text import TfidfVectorizer\n",
    "from collections import Counter\n",
    "import seaborn as sns\n",
    "import matplotlib.pyplot as plt"
   ]
  },
  {
   "cell_type": "code",
   "execution_count": 2,
   "id": "786c8f2d",
   "metadata": {},
   "outputs": [
    {
     "data": {
      "text/html": [
       "<div>\n",
       "<style scoped>\n",
       "    .dataframe tbody tr th:only-of-type {\n",
       "        vertical-align: middle;\n",
       "    }\n",
       "\n",
       "    .dataframe tbody tr th {\n",
       "        vertical-align: top;\n",
       "    }\n",
       "\n",
       "    .dataframe thead th {\n",
       "        text-align: right;\n",
       "    }\n",
       "</style>\n",
       "<table border=\"1\" class=\"dataframe\">\n",
       "  <thead>\n",
       "    <tr style=\"text-align: right;\">\n",
       "      <th></th>\n",
       "      <th>product_category</th>\n",
       "      <th>raw_text</th>\n",
       "    </tr>\n",
       "  </thead>\n",
       "  <tbody>\n",
       "    <tr>\n",
       "      <th>0</th>\n",
       "      <td>Household</td>\n",
       "      <td>Paper Plane Design Framed Wall Hanging Motivat...</td>\n",
       "    </tr>\n",
       "    <tr>\n",
       "      <th>1</th>\n",
       "      <td>Household</td>\n",
       "      <td>SAF 'Floral' Framed Painting (Wood, 30 inch x ...</td>\n",
       "    </tr>\n",
       "    <tr>\n",
       "      <th>2</th>\n",
       "      <td>Household</td>\n",
       "      <td>SAF 'UV Textured Modern Art Print Framed' Pain...</td>\n",
       "    </tr>\n",
       "    <tr>\n",
       "      <th>3</th>\n",
       "      <td>Household</td>\n",
       "      <td>SAF Flower Print Framed Painting (Synthetic, 1...</td>\n",
       "    </tr>\n",
       "    <tr>\n",
       "      <th>4</th>\n",
       "      <td>Household</td>\n",
       "      <td>Incredible Gifts India Wooden Happy Birthday U...</td>\n",
       "    </tr>\n",
       "    <tr>\n",
       "      <th>...</th>\n",
       "      <td>...</td>\n",
       "      <td>...</td>\n",
       "    </tr>\n",
       "    <tr>\n",
       "      <th>50420</th>\n",
       "      <td>Electronics</td>\n",
       "      <td>Strontium MicroSD Class 10 8GB Memory Card (Bl...</td>\n",
       "    </tr>\n",
       "    <tr>\n",
       "      <th>50421</th>\n",
       "      <td>Electronics</td>\n",
       "      <td>CrossBeats Wave Waterproof Bluetooth Wireless ...</td>\n",
       "    </tr>\n",
       "    <tr>\n",
       "      <th>50422</th>\n",
       "      <td>Electronics</td>\n",
       "      <td>Karbonn Titanium Wind W4 (White) Karbonn Titan...</td>\n",
       "    </tr>\n",
       "    <tr>\n",
       "      <th>50423</th>\n",
       "      <td>Electronics</td>\n",
       "      <td>Samsung Guru FM Plus (SM-B110E/D, Black) Colou...</td>\n",
       "    </tr>\n",
       "    <tr>\n",
       "      <th>50424</th>\n",
       "      <td>Electronics</td>\n",
       "      <td>Micromax Canvas Win W121 (White)</td>\n",
       "    </tr>\n",
       "  </tbody>\n",
       "</table>\n",
       "<p>50425 rows × 2 columns</p>\n",
       "</div>"
      ],
      "text/plain": [
       "      product_category                                           raw_text\n",
       "0            Household  Paper Plane Design Framed Wall Hanging Motivat...\n",
       "1            Household  SAF 'Floral' Framed Painting (Wood, 30 inch x ...\n",
       "2            Household  SAF 'UV Textured Modern Art Print Framed' Pain...\n",
       "3            Household  SAF Flower Print Framed Painting (Synthetic, 1...\n",
       "4            Household  Incredible Gifts India Wooden Happy Birthday U...\n",
       "...                ...                                                ...\n",
       "50420      Electronics  Strontium MicroSD Class 10 8GB Memory Card (Bl...\n",
       "50421      Electronics  CrossBeats Wave Waterproof Bluetooth Wireless ...\n",
       "50422      Electronics  Karbonn Titanium Wind W4 (White) Karbonn Titan...\n",
       "50423      Electronics  Samsung Guru FM Plus (SM-B110E/D, Black) Colou...\n",
       "50424      Electronics                   Micromax Canvas Win W121 (White)\n",
       "\n",
       "[50425 rows x 2 columns]"
      ]
     },
     "execution_count": 2,
     "metadata": {},
     "output_type": "execute_result"
    }
   ],
   "source": [
    "## Read the data set from a CSV file\n",
    "## There is no header row in the input file.\n",
    "## The first column is the label or Product_Category, and the 2nd column is\n",
    "## the product and description as a string.\n",
    "df = pd.read_csv('./data/ecommerceDataset.csv',header=None)\n",
    "\n",
    "df.columns=['product_category','raw_text']\n",
    "df"
   ]
  },
  {
   "cell_type": "code",
   "execution_count": 3,
   "id": "45524b78",
   "metadata": {},
   "outputs": [
    {
     "name": "stdout",
     "output_type": "stream",
     "text": [
      "\n",
      "Household\n",
      "        Paper Plane Design Framed Wall Hanging Motivational Office Decor Art Prints (8.7 X 8.7 inch) - Set of 4 Painting made up in synthetic frame with uv textured print which gives multi effects and attracts towards it. This is an special series of paintings which makes your wall very beautiful and gives a royal touch. This painting is ready to hang, you would be proud to possess this unique painting that is a niche apart. We use only the most modern and efficient printing technology on our prints, with only the and inks and precision epson, roland and hp printers. This innovative hd printing technique results in durable and spectacular looking prints of the highest that last a lifetime. We print solely with top-notch 100% inks, to achieve brilliant and true colours. Due to their high level of uv resistance, our prints retain their beautiful colours for many years. Add colour and style to your living space with this digitally printed painting. Some are for pleasure and some for eternal bliss.so bring home this elegant print that is lushed with rich colors that makes it nothing but sheer elegance to be to your friends and family.it would be treasured forever by whoever your lucky recipient is. Liven up your place with these intriguing paintings that are high definition hd graphic digital prints for home, office or any room.\n",
      "\n",
      "Household\n",
      "        SAF 'Floral' Framed Painting (Wood, 30 inch x 10 inch, Special Effect UV Print Textured, SAO297) Painting made up in synthetic frame with UV textured print which gives multi effects and attracts towards it. This is an special series of paintings which makes your wall very beautiful and gives a royal touch (A perfect gift for your special ones).\n",
      "\n",
      "Household\n",
      "        SAF 'UV Textured Modern Art Print Framed' Painting (Synthetic, 35 cm x 50 cm x 3 cm, Set of 3) Color:Multicolor                                                                                 |                            Size:35 cm x 50 cm x 3 cm   Overview a beautiful painting involves the action or skill of using paint in the right manner; hence, the end product will be a picture that can speak a thousand words they say. Arts have been in trend for quite some time now. It can give different viewer different meanings style and design the SAF wood matte abstract painting with frame is quite abstract and mysteriously beautiful. The painting has a nice frame to it. You can gift this to a family or a friend. The painting has various forms of certain figures on it as seen in the image. You can add a good set of lights to the place where the painting is and the decor will give a different feel and look to the place. Quality and durability the painting has a matte finish and includes a good quality frame and will last for a long period. However, it does not include glass along with the frame. Specifications you can purchase SAF wood matte abstract painting with frame on amazon.in. It is the most customer-friendly platform with a wide range of products to choose from, and shopping is just a click away!\n",
      "\n",
      "Household\n",
      "        SAF Flower Print Framed Painting (Synthetic, 13.5 inch x 22 inch, UV Textured, Set of 3, SANFSW4951) Color:Multicolor                                                                                 |                            Size:35 cm x 50 cm x 2 cm   A beautiful painting involves the action or skill of using paint in the right manner, hence, the end product will be a picture that can speak a thousand words they say. Arts have been in trend for quite some time now. It can give different viewer different meanings style and design the saf wood matte painting with frame is quite abstract and mysteriously beautiful. The painting has a nice frame to it. You can gift this to a family or a friend. The painting has various forms of certain figures on it as seen in the image. You can add a good set of lights to the place where the painting is and the decor will give a different feel and look to the place. Quality and durability the painting has a matte finish and includes a good quality frame and will last for a long period. However, it does not include glass along with the frame.\n",
      "\n",
      "Electronics\n",
      "        Micromax Canvas Win W121 (White)\n",
      "\n",
      "Electronics\n",
      "        Samsung Guru FM Plus (SM-B110E/D, Black) Colour:Black   Compact Design If you are looking for a phone that is both simple and sturdy, checkout the Samsung Guru FM Plus SM-B110E/D Mobile Phone. At a pocket-friendly price, comes this plain black Feature Mobile Phone to serve all your basic needs. With the dependable trust of Samsung, moreover, you experience its glitch-free seamless functionality. Guru FM Plus Phone comes packed with 208 MHz Single-Core Processor and 4 MB RAM. Further, the Dual 2G GSM SIM Mobile Phone is light-weight at 66 gm and extremely easy-to-operate letting you stay connected with your friends and family always. Display and User-Friendly Interface This Samsung Guru Handset features 1.5 inches TFT Display and gives you a vista of useful widgets. Owing to its 65 K Colour Support, the screen looks colourfully radiant. Guru FM Plus Phone gives you immense comfort of view as well. Your recent calls streamline better. The major menu icons are more user-responsive. And, your missed calls and SMS notifications are visible from the upgraded locked screen. Its navigation keys allow you to conveniently scroll through the Phone functions.  Exterior From the front, the keys and the two vertical sides of Samsung Guru FM Plus SM-B110E/D Feature Phone have silver lining that makes the Mobile Phone look attractive. It is encased in a leather-like texture at the rear side. Furthermore, the verges are curved and the leather-texture rear outer lets you hold the device safely with firm grip. This Samsung Guru FM Plus is also available in white and dark blue versions. Built-In Features The Samsung Guru FM Plus SM-B110E/D Feature Mobile Phone is fitted with some great in-built features. You can enjoy FM radio channels or listen to MP3 and MIDI format songs. You also have beautiful nature-wallpapers that come with this Mobile Phone to deck your home screen. For power back-up, Samsung Guru 800 mAh battery provides you 10 hours talk-time on 2G GSM.\n",
      "\n",
      "Electronics\n",
      "        Karbonn Titanium Wind W4 (White) Karbonn Titanium Wind W4 Efficient Performance A power packed Windows phone that is pocket friendly, it is the Karbonn Titanium Wind W4. With its 512 MB RAM, this phone works smoothly with its Window 8.1 operating system which is efficient and user friendly. It has a high speed 1.2 GHz Qaud Core processor for lag-free operations. It is equipped with 4 GB internal storage capacity which can be expanded up to 32 GB with an external SD card. With so much of advanced technology, this smartphone is quite within the reach of your budget.  Sleek Design and Stunning Camera The efficiency of this device is not restricted to its performance. The efficient design with its compact dimensions, 17 x 10.6 x 5.8 cm, and light weight, 122 g, makes it ergonomics and easy to hold avoiding accidental slips or drops. The white bezel is elegant and professional. The 4 inches LCD display has a resolution of 800 x 480 pixels for a colourful and clear picture quality. It has a pixel density of 233 ppi. It has a 5 MP rear camera with autofocus. It is accompanied with an LED flash for bright pictures even in low light conditions. It is loaded with a 0.3 MP front camera for selfies, video calling and more.  Battery Backup and Connectivity Powered by 1,950 mAh Lithium-ion battery, gives you a battery backup of up to 8 hours of talk time and 240 hours of standby time. It is Wi-Fi and Bluetooth enabled for high speed data connectivity and data transfer. It comes with USB cable, earphones, Battery, Charger, User manual and Warranty card. Grab the Karbonn Titanium Wind W4 to experience cost effective and superior performance.\n",
      "\n",
      "Electronics\n",
      "        CrossBeats Wave Waterproof Bluetooth Wireless Earphones For Mobile With Mic And Carry Case ( Black )\n"
     ]
    }
   ],
   "source": [
    "## Print a few samples of the first and last product descriptions\n",
    "\n",
    "for i in range(4):\n",
    "    print('')\n",
    "    print(df.iloc[i,0])\n",
    "    print('        '+df.iloc[i,1])\n",
    "    \n",
    "for i in range(4):\n",
    "    print('')\n",
    "    print(df.iloc[-i-1,0])\n",
    "    print('        '+df.iloc[-i-1,1])"
   ]
  },
  {
   "cell_type": "code",
   "execution_count": 4,
   "id": "bc39198e",
   "metadata": {},
   "outputs": [
    {
     "data": {
      "text/plain": [
       "Household                 19313\n",
       "Books                     11820\n",
       "Electronics               10621\n",
       "Clothing & Accessories     8671\n",
       "Name: product_category, dtype: int64"
      ]
     },
     "execution_count": 4,
     "metadata": {},
     "output_type": "execute_result"
    }
   ],
   "source": [
    "## Count the occurences of each product category\n",
    "df['product_category'].value_counts()"
   ]
  },
  {
   "cell_type": "markdown",
   "id": "0aea6615",
   "metadata": {},
   "source": [
    "### Data Cleaning \n"
   ]
  },
  {
   "cell_type": "markdown",
   "id": "c2d7ff38",
   "metadata": {},
   "source": [
    "The data has no missing values, but the product descriptions are free-form text. We plan to use scikit-learn TF-IDF to extract features from each product description. But the first steps are to convert all the text to lower case, remove all punctuation and non-alphabetic characters, and remove English stop words."
   ]
  },
  {
   "cell_type": "code",
   "execution_count": 5,
   "id": "e454a647",
   "metadata": {},
   "outputs": [],
   "source": [
    "match_non_alpha = re.compile(r'[^-a-z]+')\n",
    "\n",
    "def clean_words(text):\n",
    "    \"\"\"\n",
    "    1) Change all text to lower case.\n",
    "    2) Substitute space for all non-alphabetic characters (allow hyphen to remain)\n",
    "    3) Split into word tokens and drop English stop words (using ENGLISH_STOP_WORDS from sklearn.feature_extraction.text\n",
    "    4) Remove single letter tokens\n",
    "    4) Return a string which concatenates all remaining words in each text.\n",
    "    \"\"\"\n",
    "    text2 = match_non_alpha.sub(r' ',text.lower())\n",
    "    tokens = text2.split(' ')\n",
    "    cleaned = []\n",
    "    for token in tokens:\n",
    "        ## Also remove single letter tokens, \n",
    "        ## Also remove English stop words from scikit-learn feature_extraction\n",
    "        if len(token) > 1 and token not in ENGLISH_STOP_WORDS:\n",
    "            cleaned.append(token)\n",
    "    clean_text = ' '.join(cleaned)\n",
    "    return clean_text\n",
    "        \n",
    "## function to count words in text\n",
    "def count_words(text):\n",
    "    return len (text.split(' '))"
   ]
  },
  {
   "cell_type": "code",
   "execution_count": 6,
   "id": "8668f9a8",
   "metadata": {},
   "outputs": [
    {
     "data": {
      "text/html": [
       "<div>\n",
       "<style scoped>\n",
       "    .dataframe tbody tr th:only-of-type {\n",
       "        vertical-align: middle;\n",
       "    }\n",
       "\n",
       "    .dataframe tbody tr th {\n",
       "        vertical-align: top;\n",
       "    }\n",
       "\n",
       "    .dataframe thead th {\n",
       "        text-align: right;\n",
       "    }\n",
       "</style>\n",
       "<table border=\"1\" class=\"dataframe\">\n",
       "  <thead>\n",
       "    <tr style=\"text-align: right;\">\n",
       "      <th></th>\n",
       "      <th>product_category</th>\n",
       "      <th>raw_text</th>\n",
       "      <th>cleaned_text</th>\n",
       "    </tr>\n",
       "  </thead>\n",
       "  <tbody>\n",
       "    <tr>\n",
       "      <th>0</th>\n",
       "      <td>Household</td>\n",
       "      <td>Paper Plane Design Framed Wall Hanging Motivat...</td>\n",
       "      <td>paper plane design framed wall hanging motivat...</td>\n",
       "    </tr>\n",
       "    <tr>\n",
       "      <th>1</th>\n",
       "      <td>Household</td>\n",
       "      <td>SAF 'Floral' Framed Painting (Wood, 30 inch x ...</td>\n",
       "      <td>saf floral framed painting wood inch inch spec...</td>\n",
       "    </tr>\n",
       "    <tr>\n",
       "      <th>2</th>\n",
       "      <td>Household</td>\n",
       "      <td>SAF 'UV Textured Modern Art Print Framed' Pain...</td>\n",
       "      <td>saf uv textured modern art print framed painti...</td>\n",
       "    </tr>\n",
       "    <tr>\n",
       "      <th>3</th>\n",
       "      <td>Household</td>\n",
       "      <td>SAF Flower Print Framed Painting (Synthetic, 1...</td>\n",
       "      <td>saf flower print framed painting synthetic inc...</td>\n",
       "    </tr>\n",
       "    <tr>\n",
       "      <th>4</th>\n",
       "      <td>Household</td>\n",
       "      <td>Incredible Gifts India Wooden Happy Birthday U...</td>\n",
       "      <td>incredible gifts india wooden happy birthday u...</td>\n",
       "    </tr>\n",
       "    <tr>\n",
       "      <th>...</th>\n",
       "      <td>...</td>\n",
       "      <td>...</td>\n",
       "      <td>...</td>\n",
       "    </tr>\n",
       "    <tr>\n",
       "      <th>50420</th>\n",
       "      <td>Electronics</td>\n",
       "      <td>Strontium MicroSD Class 10 8GB Memory Card (Bl...</td>\n",
       "      <td>strontium microsd class gb memory card black m...</td>\n",
       "    </tr>\n",
       "    <tr>\n",
       "      <th>50421</th>\n",
       "      <td>Electronics</td>\n",
       "      <td>CrossBeats Wave Waterproof Bluetooth Wireless ...</td>\n",
       "      <td>crossbeats wave waterproof bluetooth wireless ...</td>\n",
       "    </tr>\n",
       "    <tr>\n",
       "      <th>50422</th>\n",
       "      <td>Electronics</td>\n",
       "      <td>Karbonn Titanium Wind W4 (White) Karbonn Titan...</td>\n",
       "      <td>karbonn titanium wind white karbonn titanium w...</td>\n",
       "    </tr>\n",
       "    <tr>\n",
       "      <th>50423</th>\n",
       "      <td>Electronics</td>\n",
       "      <td>Samsung Guru FM Plus (SM-B110E/D, Black) Colou...</td>\n",
       "      <td>samsung guru fm plus sm-b black colour black c...</td>\n",
       "    </tr>\n",
       "    <tr>\n",
       "      <th>50424</th>\n",
       "      <td>Electronics</td>\n",
       "      <td>Micromax Canvas Win W121 (White)</td>\n",
       "      <td>micromax canvas win white</td>\n",
       "    </tr>\n",
       "  </tbody>\n",
       "</table>\n",
       "<p>50425 rows × 3 columns</p>\n",
       "</div>"
      ],
      "text/plain": [
       "      product_category                                           raw_text  \\\n",
       "0            Household  Paper Plane Design Framed Wall Hanging Motivat...   \n",
       "1            Household  SAF 'Floral' Framed Painting (Wood, 30 inch x ...   \n",
       "2            Household  SAF 'UV Textured Modern Art Print Framed' Pain...   \n",
       "3            Household  SAF Flower Print Framed Painting (Synthetic, 1...   \n",
       "4            Household  Incredible Gifts India Wooden Happy Birthday U...   \n",
       "...                ...                                                ...   \n",
       "50420      Electronics  Strontium MicroSD Class 10 8GB Memory Card (Bl...   \n",
       "50421      Electronics  CrossBeats Wave Waterproof Bluetooth Wireless ...   \n",
       "50422      Electronics  Karbonn Titanium Wind W4 (White) Karbonn Titan...   \n",
       "50423      Electronics  Samsung Guru FM Plus (SM-B110E/D, Black) Colou...   \n",
       "50424      Electronics                   Micromax Canvas Win W121 (White)   \n",
       "\n",
       "                                            cleaned_text  \n",
       "0      paper plane design framed wall hanging motivat...  \n",
       "1      saf floral framed painting wood inch inch spec...  \n",
       "2      saf uv textured modern art print framed painti...  \n",
       "3      saf flower print framed painting synthetic inc...  \n",
       "4      incredible gifts india wooden happy birthday u...  \n",
       "...                                                  ...  \n",
       "50420  strontium microsd class gb memory card black m...  \n",
       "50421  crossbeats wave waterproof bluetooth wireless ...  \n",
       "50422  karbonn titanium wind white karbonn titanium w...  \n",
       "50423  samsung guru fm plus sm-b black colour black c...  \n",
       "50424                          micromax canvas win white  \n",
       "\n",
       "[50425 rows x 3 columns]"
      ]
     },
     "execution_count": 6,
     "metadata": {},
     "output_type": "execute_result"
    }
   ],
   "source": [
    "df['cleaned_text'] = df['raw_text'].apply(clean_words)\n",
    "df"
   ]
  },
  {
   "cell_type": "code",
   "execution_count": 7,
   "id": "a2132bbb",
   "metadata": {},
   "outputs": [
    {
     "data": {
      "text/html": [
       "<div>\n",
       "<style scoped>\n",
       "    .dataframe tbody tr th:only-of-type {\n",
       "        vertical-align: middle;\n",
       "    }\n",
       "\n",
       "    .dataframe tbody tr th {\n",
       "        vertical-align: top;\n",
       "    }\n",
       "\n",
       "    .dataframe thead th {\n",
       "        text-align: right;\n",
       "    }\n",
       "</style>\n",
       "<table border=\"1\" class=\"dataframe\">\n",
       "  <thead>\n",
       "    <tr style=\"text-align: right;\">\n",
       "      <th></th>\n",
       "      <th>product_category</th>\n",
       "      <th>raw_text</th>\n",
       "      <th>cleaned_text</th>\n",
       "      <th>word_counts</th>\n",
       "    </tr>\n",
       "  </thead>\n",
       "  <tbody>\n",
       "    <tr>\n",
       "      <th>0</th>\n",
       "      <td>Household</td>\n",
       "      <td>Paper Plane Design Framed Wall Hanging Motivat...</td>\n",
       "      <td>paper plane design framed wall hanging motivat...</td>\n",
       "      <td>121</td>\n",
       "    </tr>\n",
       "    <tr>\n",
       "      <th>1</th>\n",
       "      <td>Household</td>\n",
       "      <td>SAF 'Floral' Framed Painting (Wood, 30 inch x ...</td>\n",
       "      <td>saf floral framed painting wood inch inch spec...</td>\n",
       "      <td>36</td>\n",
       "    </tr>\n",
       "    <tr>\n",
       "      <th>2</th>\n",
       "      <td>Household</td>\n",
       "      <td>SAF 'UV Textured Modern Art Print Framed' Pain...</td>\n",
       "      <td>saf uv textured modern art print framed painti...</td>\n",
       "      <td>114</td>\n",
       "    </tr>\n",
       "    <tr>\n",
       "      <th>3</th>\n",
       "      <td>Household</td>\n",
       "      <td>SAF Flower Print Framed Painting (Synthetic, 1...</td>\n",
       "      <td>saf flower print framed painting synthetic inc...</td>\n",
       "      <td>92</td>\n",
       "    </tr>\n",
       "    <tr>\n",
       "      <th>4</th>\n",
       "      <td>Household</td>\n",
       "      <td>Incredible Gifts India Wooden Happy Birthday U...</td>\n",
       "      <td>incredible gifts india wooden happy birthday u...</td>\n",
       "      <td>91</td>\n",
       "    </tr>\n",
       "    <tr>\n",
       "      <th>...</th>\n",
       "      <td>...</td>\n",
       "      <td>...</td>\n",
       "      <td>...</td>\n",
       "      <td>...</td>\n",
       "    </tr>\n",
       "    <tr>\n",
       "      <th>50420</th>\n",
       "      <td>Electronics</td>\n",
       "      <td>Strontium MicroSD Class 10 8GB Memory Card (Bl...</td>\n",
       "      <td>strontium microsd class gb memory card black m...</td>\n",
       "      <td>57</td>\n",
       "    </tr>\n",
       "    <tr>\n",
       "      <th>50421</th>\n",
       "      <td>Electronics</td>\n",
       "      <td>CrossBeats Wave Waterproof Bluetooth Wireless ...</td>\n",
       "      <td>crossbeats wave waterproof bluetooth wireless ...</td>\n",
       "      <td>11</td>\n",
       "    </tr>\n",
       "    <tr>\n",
       "      <th>50422</th>\n",
       "      <td>Electronics</td>\n",
       "      <td>Karbonn Titanium Wind W4 (White) Karbonn Titan...</td>\n",
       "      <td>karbonn titanium wind white karbonn titanium w...</td>\n",
       "      <td>153</td>\n",
       "    </tr>\n",
       "    <tr>\n",
       "      <th>50423</th>\n",
       "      <td>Electronics</td>\n",
       "      <td>Samsung Guru FM Plus (SM-B110E/D, Black) Colou...</td>\n",
       "      <td>samsung guru fm plus sm-b black colour black c...</td>\n",
       "      <td>201</td>\n",
       "    </tr>\n",
       "    <tr>\n",
       "      <th>50424</th>\n",
       "      <td>Electronics</td>\n",
       "      <td>Micromax Canvas Win W121 (White)</td>\n",
       "      <td>micromax canvas win white</td>\n",
       "      <td>4</td>\n",
       "    </tr>\n",
       "  </tbody>\n",
       "</table>\n",
       "<p>50425 rows × 4 columns</p>\n",
       "</div>"
      ],
      "text/plain": [
       "      product_category                                           raw_text  \\\n",
       "0            Household  Paper Plane Design Framed Wall Hanging Motivat...   \n",
       "1            Household  SAF 'Floral' Framed Painting (Wood, 30 inch x ...   \n",
       "2            Household  SAF 'UV Textured Modern Art Print Framed' Pain...   \n",
       "3            Household  SAF Flower Print Framed Painting (Synthetic, 1...   \n",
       "4            Household  Incredible Gifts India Wooden Happy Birthday U...   \n",
       "...                ...                                                ...   \n",
       "50420      Electronics  Strontium MicroSD Class 10 8GB Memory Card (Bl...   \n",
       "50421      Electronics  CrossBeats Wave Waterproof Bluetooth Wireless ...   \n",
       "50422      Electronics  Karbonn Titanium Wind W4 (White) Karbonn Titan...   \n",
       "50423      Electronics  Samsung Guru FM Plus (SM-B110E/D, Black) Colou...   \n",
       "50424      Electronics                   Micromax Canvas Win W121 (White)   \n",
       "\n",
       "                                            cleaned_text  word_counts  \n",
       "0      paper plane design framed wall hanging motivat...          121  \n",
       "1      saf floral framed painting wood inch inch spec...           36  \n",
       "2      saf uv textured modern art print framed painti...          114  \n",
       "3      saf flower print framed painting synthetic inc...           92  \n",
       "4      incredible gifts india wooden happy birthday u...           91  \n",
       "...                                                  ...          ...  \n",
       "50420  strontium microsd class gb memory card black m...           57  \n",
       "50421  crossbeats wave waterproof bluetooth wireless ...           11  \n",
       "50422  karbonn titanium wind white karbonn titanium w...          153  \n",
       "50423  samsung guru fm plus sm-b black colour black c...          201  \n",
       "50424                          micromax canvas win white            4  \n",
       "\n",
       "[50425 rows x 4 columns]"
      ]
     },
     "execution_count": 7,
     "metadata": {},
     "output_type": "execute_result"
    }
   ],
   "source": [
    "df['word_counts'] = df['cleaned_text'].apply(count_words)\n",
    "df"
   ]
  },
  {
   "cell_type": "code",
   "execution_count": 8,
   "id": "34275cdd",
   "metadata": {},
   "outputs": [
    {
     "data": {
      "text/plain": [
       "count    50425.000000\n",
       "mean        69.289479\n",
       "std         84.336362\n",
       "min          1.000000\n",
       "25%         24.000000\n",
       "50%         49.000000\n",
       "75%         91.000000\n",
       "max       4016.000000\n",
       "Name: word_counts, dtype: float64"
      ]
     },
     "execution_count": 8,
     "metadata": {},
     "output_type": "execute_result"
    }
   ],
   "source": [
    "df['word_counts'].describe()"
   ]
  },
  {
   "cell_type": "code",
   "execution_count": 9,
   "id": "b6b35067",
   "metadata": {},
   "outputs": [
    {
     "data": {
      "text/html": [
       "<div>\n",
       "<style scoped>\n",
       "    .dataframe tbody tr th:only-of-type {\n",
       "        vertical-align: middle;\n",
       "    }\n",
       "\n",
       "    .dataframe tbody tr th {\n",
       "        vertical-align: top;\n",
       "    }\n",
       "\n",
       "    .dataframe thead th {\n",
       "        text-align: right;\n",
       "    }\n",
       "</style>\n",
       "<table border=\"1\" class=\"dataframe\">\n",
       "  <thead>\n",
       "    <tr style=\"text-align: right;\">\n",
       "      <th></th>\n",
       "      <th>product_category</th>\n",
       "      <th>raw_text</th>\n",
       "      <th>cleaned_text</th>\n",
       "      <th>word_counts</th>\n",
       "    </tr>\n",
       "  </thead>\n",
       "  <tbody>\n",
       "    <tr>\n",
       "      <th>21375</th>\n",
       "      <td>Books</td>\n",
       "      <td>281 and Beyond</td>\n",
       "      <td></td>\n",
       "      <td>1</td>\n",
       "    </tr>\n",
       "    <tr>\n",
       "      <th>23178</th>\n",
       "      <td>Books</td>\n",
       "      <td>281 and Beyond</td>\n",
       "      <td></td>\n",
       "      <td>1</td>\n",
       "    </tr>\n",
       "    <tr>\n",
       "      <th>23976</th>\n",
       "      <td>Books</td>\n",
       "      <td>281 and Beyond</td>\n",
       "      <td></td>\n",
       "      <td>1</td>\n",
       "    </tr>\n",
       "    <tr>\n",
       "      <th>27423</th>\n",
       "      <td>Books</td>\n",
       "      <td>Becoming</td>\n",
       "      <td></td>\n",
       "      <td>1</td>\n",
       "    </tr>\n",
       "    <tr>\n",
       "      <th>30549</th>\n",
       "      <td>Books</td>\n",
       "      <td>Becoming</td>\n",
       "      <td></td>\n",
       "      <td>1</td>\n",
       "    </tr>\n",
       "    <tr>\n",
       "      <th>39330</th>\n",
       "      <td>Clothing &amp; Accessories</td>\n",
       "      <td></td>\n",
       "      <td></td>\n",
       "      <td>1</td>\n",
       "    </tr>\n",
       "  </tbody>\n",
       "</table>\n",
       "</div>"
      ],
      "text/plain": [
       "             product_category         raw_text cleaned_text  word_counts\n",
       "21375                   Books  281 and Beyond                          1\n",
       "23178                   Books  281 and Beyond                          1\n",
       "23976                   Books  281 and Beyond                          1\n",
       "27423                   Books         Becoming                         1\n",
       "30549                   Books         Becoming                         1\n",
       "39330  Clothing & Accessories                                          1"
      ]
     },
     "execution_count": 9,
     "metadata": {},
     "output_type": "execute_result"
    }
   ],
   "source": [
    "## It turns out that after removing stop words and puctuation, etc, \n",
    "## A few of the cleaned_text values are empty. We will drop these rows\n",
    "## from the data frame.\n",
    "\n",
    "df[df['cleaned_text']=='']"
   ]
  },
  {
   "cell_type": "code",
   "execution_count": 10,
   "id": "f83bb941",
   "metadata": {},
   "outputs": [
    {
     "data": {
      "text/html": [
       "<div>\n",
       "<style scoped>\n",
       "    .dataframe tbody tr th:only-of-type {\n",
       "        vertical-align: middle;\n",
       "    }\n",
       "\n",
       "    .dataframe tbody tr th {\n",
       "        vertical-align: top;\n",
       "    }\n",
       "\n",
       "    .dataframe thead th {\n",
       "        text-align: right;\n",
       "    }\n",
       "</style>\n",
       "<table border=\"1\" class=\"dataframe\">\n",
       "  <thead>\n",
       "    <tr style=\"text-align: right;\">\n",
       "      <th></th>\n",
       "      <th>product_category</th>\n",
       "      <th>raw_text</th>\n",
       "      <th>cleaned_text</th>\n",
       "      <th>word_counts</th>\n",
       "    </tr>\n",
       "  </thead>\n",
       "  <tbody>\n",
       "    <tr>\n",
       "      <th>0</th>\n",
       "      <td>Household</td>\n",
       "      <td>Paper Plane Design Framed Wall Hanging Motivat...</td>\n",
       "      <td>paper plane design framed wall hanging motivat...</td>\n",
       "      <td>121</td>\n",
       "    </tr>\n",
       "    <tr>\n",
       "      <th>1</th>\n",
       "      <td>Household</td>\n",
       "      <td>SAF 'Floral' Framed Painting (Wood, 30 inch x ...</td>\n",
       "      <td>saf floral framed painting wood inch inch spec...</td>\n",
       "      <td>36</td>\n",
       "    </tr>\n",
       "    <tr>\n",
       "      <th>2</th>\n",
       "      <td>Household</td>\n",
       "      <td>SAF 'UV Textured Modern Art Print Framed' Pain...</td>\n",
       "      <td>saf uv textured modern art print framed painti...</td>\n",
       "      <td>114</td>\n",
       "    </tr>\n",
       "    <tr>\n",
       "      <th>3</th>\n",
       "      <td>Household</td>\n",
       "      <td>SAF Flower Print Framed Painting (Synthetic, 1...</td>\n",
       "      <td>saf flower print framed painting synthetic inc...</td>\n",
       "      <td>92</td>\n",
       "    </tr>\n",
       "    <tr>\n",
       "      <th>4</th>\n",
       "      <td>Household</td>\n",
       "      <td>Incredible Gifts India Wooden Happy Birthday U...</td>\n",
       "      <td>incredible gifts india wooden happy birthday u...</td>\n",
       "      <td>91</td>\n",
       "    </tr>\n",
       "    <tr>\n",
       "      <th>...</th>\n",
       "      <td>...</td>\n",
       "      <td>...</td>\n",
       "      <td>...</td>\n",
       "      <td>...</td>\n",
       "    </tr>\n",
       "    <tr>\n",
       "      <th>50420</th>\n",
       "      <td>Electronics</td>\n",
       "      <td>Strontium MicroSD Class 10 8GB Memory Card (Bl...</td>\n",
       "      <td>strontium microsd class gb memory card black m...</td>\n",
       "      <td>57</td>\n",
       "    </tr>\n",
       "    <tr>\n",
       "      <th>50421</th>\n",
       "      <td>Electronics</td>\n",
       "      <td>CrossBeats Wave Waterproof Bluetooth Wireless ...</td>\n",
       "      <td>crossbeats wave waterproof bluetooth wireless ...</td>\n",
       "      <td>11</td>\n",
       "    </tr>\n",
       "    <tr>\n",
       "      <th>50422</th>\n",
       "      <td>Electronics</td>\n",
       "      <td>Karbonn Titanium Wind W4 (White) Karbonn Titan...</td>\n",
       "      <td>karbonn titanium wind white karbonn titanium w...</td>\n",
       "      <td>153</td>\n",
       "    </tr>\n",
       "    <tr>\n",
       "      <th>50423</th>\n",
       "      <td>Electronics</td>\n",
       "      <td>Samsung Guru FM Plus (SM-B110E/D, Black) Colou...</td>\n",
       "      <td>samsung guru fm plus sm-b black colour black c...</td>\n",
       "      <td>201</td>\n",
       "    </tr>\n",
       "    <tr>\n",
       "      <th>50424</th>\n",
       "      <td>Electronics</td>\n",
       "      <td>Micromax Canvas Win W121 (White)</td>\n",
       "      <td>micromax canvas win white</td>\n",
       "      <td>4</td>\n",
       "    </tr>\n",
       "  </tbody>\n",
       "</table>\n",
       "<p>50419 rows × 4 columns</p>\n",
       "</div>"
      ],
      "text/plain": [
       "      product_category                                           raw_text  \\\n",
       "0            Household  Paper Plane Design Framed Wall Hanging Motivat...   \n",
       "1            Household  SAF 'Floral' Framed Painting (Wood, 30 inch x ...   \n",
       "2            Household  SAF 'UV Textured Modern Art Print Framed' Pain...   \n",
       "3            Household  SAF Flower Print Framed Painting (Synthetic, 1...   \n",
       "4            Household  Incredible Gifts India Wooden Happy Birthday U...   \n",
       "...                ...                                                ...   \n",
       "50420      Electronics  Strontium MicroSD Class 10 8GB Memory Card (Bl...   \n",
       "50421      Electronics  CrossBeats Wave Waterproof Bluetooth Wireless ...   \n",
       "50422      Electronics  Karbonn Titanium Wind W4 (White) Karbonn Titan...   \n",
       "50423      Electronics  Samsung Guru FM Plus (SM-B110E/D, Black) Colou...   \n",
       "50424      Electronics                   Micromax Canvas Win W121 (White)   \n",
       "\n",
       "                                            cleaned_text  word_counts  \n",
       "0      paper plane design framed wall hanging motivat...          121  \n",
       "1      saf floral framed painting wood inch inch spec...           36  \n",
       "2      saf uv textured modern art print framed painti...          114  \n",
       "3      saf flower print framed painting synthetic inc...           92  \n",
       "4      incredible gifts india wooden happy birthday u...           91  \n",
       "...                                                  ...          ...  \n",
       "50420  strontium microsd class gb memory card black m...           57  \n",
       "50421  crossbeats wave waterproof bluetooth wireless ...           11  \n",
       "50422  karbonn titanium wind white karbonn titanium w...          153  \n",
       "50423  samsung guru fm plus sm-b black colour black c...          201  \n",
       "50424                          micromax canvas win white            4  \n",
       "\n",
       "[50419 rows x 4 columns]"
      ]
     },
     "execution_count": 10,
     "metadata": {},
     "output_type": "execute_result"
    }
   ],
   "source": [
    "df=df[df['cleaned_text']!='']\n",
    "df"
   ]
  },
  {
   "cell_type": "code",
   "execution_count": 11,
   "id": "c05abc06",
   "metadata": {},
   "outputs": [
    {
     "data": {
      "text/plain": [
       "count    50419.000000\n",
       "mean        69.297606\n",
       "std         84.338090\n",
       "min          1.000000\n",
       "25%         24.000000\n",
       "50%         49.000000\n",
       "75%         91.000000\n",
       "max       4016.000000\n",
       "Name: word_counts, dtype: float64"
      ]
     },
     "execution_count": 11,
     "metadata": {},
     "output_type": "execute_result"
    }
   ],
   "source": [
    "## Descriptive statistics for word counts in the cleaned product descriptions\n",
    "df['word_counts'].describe()"
   ]
  },
  {
   "cell_type": "code",
   "execution_count": 12,
   "id": "7fc2103e",
   "metadata": {},
   "outputs": [
    {
     "name": "stdout",
     "output_type": "stream",
     "text": [
      "Total Words in the corpus = 3493916\n"
     ]
    },
    {
     "data": {
      "text/plain": [
       "count     3493916\n",
       "unique      76577\n",
       "top          size\n",
       "freq        13063\n",
       "dtype: object"
      ]
     },
     "metadata": {},
     "output_type": "display_data"
    },
    {
     "data": {
      "text/html": [
       "<div>\n",
       "<style scoped>\n",
       "    .dataframe tbody tr th:only-of-type {\n",
       "        vertical-align: middle;\n",
       "    }\n",
       "\n",
       "    .dataframe tbody tr th {\n",
       "        vertical-align: top;\n",
       "    }\n",
       "\n",
       "    .dataframe thead th {\n",
       "        text-align: right;\n",
       "    }\n",
       "</style>\n",
       "<table border=\"1\" class=\"dataframe\">\n",
       "  <thead>\n",
       "    <tr style=\"text-align: right;\">\n",
       "      <th></th>\n",
       "      <th>word</th>\n",
       "      <th>frequency</th>\n",
       "    </tr>\n",
       "  </thead>\n",
       "  <tbody>\n",
       "    <tr>\n",
       "      <th>0</th>\n",
       "      <td>size</td>\n",
       "      <td>13063</td>\n",
       "    </tr>\n",
       "    <tr>\n",
       "      <th>1</th>\n",
       "      <td>book</td>\n",
       "      <td>12658</td>\n",
       "    </tr>\n",
       "    <tr>\n",
       "      <th>2</th>\n",
       "      <td>use</td>\n",
       "      <td>12166</td>\n",
       "    </tr>\n",
       "    <tr>\n",
       "      <th>3</th>\n",
       "      <td>set</td>\n",
       "      <td>12136</td>\n",
       "    </tr>\n",
       "    <tr>\n",
       "      <th>4</th>\n",
       "      <td>easy</td>\n",
       "      <td>11476</td>\n",
       "    </tr>\n",
       "    <tr>\n",
       "      <th>5</th>\n",
       "      <td>quality</td>\n",
       "      <td>11215</td>\n",
       "    </tr>\n",
       "    <tr>\n",
       "      <th>6</th>\n",
       "      <td>product</td>\n",
       "      <td>10963</td>\n",
       "    </tr>\n",
       "    <tr>\n",
       "      <th>7</th>\n",
       "      <td>black</td>\n",
       "      <td>10813</td>\n",
       "    </tr>\n",
       "    <tr>\n",
       "      <th>8</th>\n",
       "      <td>home</td>\n",
       "      <td>10496</td>\n",
       "    </tr>\n",
       "    <tr>\n",
       "      <th>9</th>\n",
       "      <td>design</td>\n",
       "      <td>10357</td>\n",
       "    </tr>\n",
       "    <tr>\n",
       "      <th>10</th>\n",
       "      <td>author</td>\n",
       "      <td>9902</td>\n",
       "    </tr>\n",
       "    <tr>\n",
       "      <th>11</th>\n",
       "      <td>cm</td>\n",
       "      <td>9342</td>\n",
       "    </tr>\n",
       "    <tr>\n",
       "      <th>12</th>\n",
       "      <td>mm</td>\n",
       "      <td>9107</td>\n",
       "    </tr>\n",
       "    <tr>\n",
       "      <th>13</th>\n",
       "      <td>high</td>\n",
       "      <td>8915</td>\n",
       "    </tr>\n",
       "    <tr>\n",
       "      <th>14</th>\n",
       "      <td>color</td>\n",
       "      <td>8878</td>\n",
       "    </tr>\n",
       "    <tr>\n",
       "      <th>15</th>\n",
       "      <td>new</td>\n",
       "      <td>8811</td>\n",
       "    </tr>\n",
       "    <tr>\n",
       "      <th>16</th>\n",
       "      <td>power</td>\n",
       "      <td>8706</td>\n",
       "    </tr>\n",
       "    <tr>\n",
       "      <th>17</th>\n",
       "      <td>time</td>\n",
       "      <td>8315</td>\n",
       "    </tr>\n",
       "    <tr>\n",
       "      <th>18</th>\n",
       "      <td>cotton</td>\n",
       "      <td>7919</td>\n",
       "    </tr>\n",
       "    <tr>\n",
       "      <th>19</th>\n",
       "      <td>usb</td>\n",
       "      <td>7629</td>\n",
       "    </tr>\n",
       "    <tr>\n",
       "      <th>20</th>\n",
       "      <td>best</td>\n",
       "      <td>7300</td>\n",
       "    </tr>\n",
       "    <tr>\n",
       "      <th>21</th>\n",
       "      <td>perfect</td>\n",
       "      <td>7295</td>\n",
       "    </tr>\n",
       "    <tr>\n",
       "      <th>22</th>\n",
       "      <td>comes</td>\n",
       "      <td>7205</td>\n",
       "    </tr>\n",
       "    <tr>\n",
       "      <th>23</th>\n",
       "      <td>make</td>\n",
       "      <td>6950</td>\n",
       "    </tr>\n",
       "    <tr>\n",
       "      <th>24</th>\n",
       "      <td>light</td>\n",
       "      <td>6949</td>\n",
       "    </tr>\n",
       "    <tr>\n",
       "      <th>25</th>\n",
       "      <td>features</td>\n",
       "      <td>6903</td>\n",
       "    </tr>\n",
       "    <tr>\n",
       "      <th>26</th>\n",
       "      <td>used</td>\n",
       "      <td>6719</td>\n",
       "    </tr>\n",
       "    <tr>\n",
       "      <th>27</th>\n",
       "      <td>material</td>\n",
       "      <td>6563</td>\n",
       "    </tr>\n",
       "    <tr>\n",
       "      <th>28</th>\n",
       "      <td>women</td>\n",
       "      <td>6523</td>\n",
       "    </tr>\n",
       "    <tr>\n",
       "      <th>29</th>\n",
       "      <td>designed</td>\n",
       "      <td>6369</td>\n",
       "    </tr>\n",
       "    <tr>\n",
       "      <th>30</th>\n",
       "      <td>steel</td>\n",
       "      <td>6369</td>\n",
       "    </tr>\n",
       "    <tr>\n",
       "      <th>31</th>\n",
       "      <td>water</td>\n",
       "      <td>6368</td>\n",
       "    </tr>\n",
       "    <tr>\n",
       "      <th>32</th>\n",
       "      <td>life</td>\n",
       "      <td>6005</td>\n",
       "    </tr>\n",
       "    <tr>\n",
       "      <th>33</th>\n",
       "      <td>white</td>\n",
       "      <td>5897</td>\n",
       "    </tr>\n",
       "    <tr>\n",
       "      <th>34</th>\n",
       "      <td>look</td>\n",
       "      <td>5840</td>\n",
       "    </tr>\n",
       "    <tr>\n",
       "      <th>35</th>\n",
       "      <td>style</td>\n",
       "      <td>5733</td>\n",
       "    </tr>\n",
       "    <tr>\n",
       "      <th>36</th>\n",
       "      <td>long</td>\n",
       "      <td>5674</td>\n",
       "    </tr>\n",
       "    <tr>\n",
       "      <th>37</th>\n",
       "      <td>like</td>\n",
       "      <td>5537</td>\n",
       "    </tr>\n",
       "    <tr>\n",
       "      <th>38</th>\n",
       "      <td>world</td>\n",
       "      <td>5454</td>\n",
       "    </tr>\n",
       "    <tr>\n",
       "      <th>39</th>\n",
       "      <td>books</td>\n",
       "      <td>5265</td>\n",
       "    </tr>\n",
       "    <tr>\n",
       "      <th>40</th>\n",
       "      <td>makes</td>\n",
       "      <td>5158</td>\n",
       "    </tr>\n",
       "    <tr>\n",
       "      <th>41</th>\n",
       "      <td>great</td>\n",
       "      <td>5143</td>\n",
       "    </tr>\n",
       "    <tr>\n",
       "      <th>42</th>\n",
       "      <td>table</td>\n",
       "      <td>4993</td>\n",
       "    </tr>\n",
       "    <tr>\n",
       "      <th>43</th>\n",
       "      <td>years</td>\n",
       "      <td>4955</td>\n",
       "    </tr>\n",
       "    <tr>\n",
       "      <th>44</th>\n",
       "      <td>men</td>\n",
       "      <td>4901</td>\n",
       "    </tr>\n",
       "    <tr>\n",
       "      <th>45</th>\n",
       "      <td>india</td>\n",
       "      <td>4863</td>\n",
       "    </tr>\n",
       "    <tr>\n",
       "      <th>46</th>\n",
       "      <td>camera</td>\n",
       "      <td>4860</td>\n",
       "    </tr>\n",
       "    <tr>\n",
       "      <th>47</th>\n",
       "      <td>just</td>\n",
       "      <td>4820</td>\n",
       "    </tr>\n",
       "    <tr>\n",
       "      <th>48</th>\n",
       "      <td>range</td>\n",
       "      <td>4790</td>\n",
       "    </tr>\n",
       "    <tr>\n",
       "      <th>49</th>\n",
       "      <td>colour</td>\n",
       "      <td>4788</td>\n",
       "    </tr>\n",
       "  </tbody>\n",
       "</table>\n",
       "</div>"
      ],
      "text/plain": [
       "        word  frequency\n",
       "0       size      13063\n",
       "1       book      12658\n",
       "2        use      12166\n",
       "3        set      12136\n",
       "4       easy      11476\n",
       "5    quality      11215\n",
       "6    product      10963\n",
       "7      black      10813\n",
       "8       home      10496\n",
       "9     design      10357\n",
       "10    author       9902\n",
       "11        cm       9342\n",
       "12        mm       9107\n",
       "13      high       8915\n",
       "14     color       8878\n",
       "15       new       8811\n",
       "16     power       8706\n",
       "17      time       8315\n",
       "18    cotton       7919\n",
       "19       usb       7629\n",
       "20      best       7300\n",
       "21   perfect       7295\n",
       "22     comes       7205\n",
       "23      make       6950\n",
       "24     light       6949\n",
       "25  features       6903\n",
       "26      used       6719\n",
       "27  material       6563\n",
       "28     women       6523\n",
       "29  designed       6369\n",
       "30     steel       6369\n",
       "31     water       6368\n",
       "32      life       6005\n",
       "33     white       5897\n",
       "34      look       5840\n",
       "35     style       5733\n",
       "36      long       5674\n",
       "37      like       5537\n",
       "38     world       5454\n",
       "39     books       5265\n",
       "40     makes       5158\n",
       "41     great       5143\n",
       "42     table       4993\n",
       "43     years       4955\n",
       "44       men       4901\n",
       "45     india       4863\n",
       "46    camera       4860\n",
       "47      just       4820\n",
       "48     range       4790\n",
       "49    colour       4788"
      ]
     },
     "execution_count": 12,
     "metadata": {},
     "output_type": "execute_result"
    }
   ],
   "source": [
    "## Create a list of all (cleaned) words used in the product descriptions\n",
    "## and identify the 50 most frequently occuring words\n",
    "corpus = list(df['cleaned_text'])\n",
    "\n",
    "all_words = []\n",
    "for text in corpus:\n",
    "    all_words.extend(text.split(' '))\n",
    "    \n",
    "print(f'Total Words in the corpus = {len(all_words)}')\n",
    "\n",
    "all_word_series = pd.Series(all_words)\n",
    "display(all_word_series.describe())\n",
    "    \n",
    "top_50 = pd.DataFrame(\n",
    "    Counter(all_words).most_common(50),\n",
    "    columns=['word', 'frequency']\n",
    ")\n",
    "\n",
    "top_50"
   ]
  },
  {
   "cell_type": "code",
   "execution_count": 13,
   "id": "7b7748b2",
   "metadata": {},
   "outputs": [
    {
     "data": {
      "image/png": "[encoded data removed]",
      "text/plain": [
       "<Figure size 1440x720 with 1 Axes>"
      ]
     },
     "metadata": {
      "needs_background": "light"
     },
     "output_type": "display_data"
    }
   ],
   "source": [
    "# Plot a bar chart for the top 50 most frequently occuring words\n",
    "fig = plt.figure(figsize=(20,10))\n",
    "\n",
    "g = sns.barplot(\n",
    "    x='word',\n",
    "    y='frequency',\n",
    "    data=top_50,\n",
    ")\n",
    "\n",
    "g.set_xticklabels(\n",
    "    g.get_xticklabels(),\n",
    "    rotation=45,\n",
    "    fontsize=14\n",
    ")\n",
    "\n",
    "plt.yticks(fontsize=14)\n",
    "plt.xlabel('Words', fontsize=14)\n",
    "plt.ylabel('Frequency', fontsize=14)\n",
    "plt.title('Top 50 Words', fontsize=17)\n",
    "\n",
    "plt.show()"
   ]
  },
  {
   "cell_type": "markdown",
   "id": "3b31ef3b",
   "metadata": {},
   "source": [
    "# Feature Creation using scikit-learn TF-IDF\n",
    "\n",
    "\n",
    "We will be using <b>TF-IDF</b> or Term Frequency - Inverse Document Frequency as a way to encode features from the collections of words in each document (product description). The <b>corpus</b> is the set of all words appearing in all documents being considered. A <b>term</b> is a word that appears in the corpus, or a short sequence of specific words. When sequences of words are considered they are called  <b>n-grams</b>. The NGRAM_RANGE defines the minimum and maximum length of the sequences considered.\n",
    "\n",
    "The ti=f-idf value is proportial to the number of times a term is used in each specific document, and is weighted lower for terms that appear frequently in many documents in the corpus. Terms that appear frequently in given documents may be strong indications of the topics in the document, but terms that appear frequently across many documement provide little specific information.\n",
    "\n",
    "The scikit-learn TfidfVectorizer determines the frequency of all the terms in the corpus across all documents and across\n",
    "each specific document being considered. The N most frequent terms in the corpus are used to define a fixed length vector.\n",
    "This vector is computed for each specific document by computing the tf-idf value of that term in that document for each of the  N most frequent terms in the corpus. This results a fixed-length vector encoding for the collection of words in each document.\n"
   ]
  },
  {
   "cell_type": "code",
   "execution_count": 14,
   "id": "044cb57a",
   "metadata": {},
   "outputs": [
    {
     "name": "stdout",
     "output_type": "stream",
     "text": [
      "CPU times: total: 7.62 s\n",
      "Wall time: 7.61 s\n"
     ]
    }
   ],
   "source": [
    "%%time\n",
    "\n",
    "MAX_FEATURES = 10000 ## Build a vocabulary using the only the top max_features ordered by term frequency across the corpus.\n",
    "MIN_DF = 1 ## Minimum Term Frequency Per Document. Ignore terms that appear less than this number of times in a given document\n",
    "MAX_DF = 0.85 ## Maximum Document Frequency. Ignore terms that appear in more than this proportion of all documents\n",
    "NGRAM_RANGE = (1,2)\n",
    "\n",
    "## Create the tf-idf vectors for all the train and test documents as one corpus\n",
    "tfidf_vectorizer = TfidfVectorizer(\n",
    "    min_df=MIN_DF,\n",
    "    max_df=MAX_DF,\n",
    "    max_features=MAX_FEATURES,\n",
    "    ngram_range=NGRAM_RANGE,\n",
    ")\n",
    "\n",
    "all_docs = list(df['cleaned_text'])\n",
    "tfidf = tfidf_vectorizer.fit_transform(all_docs)\n",
    "\n"
   ]
  },
  {
   "cell_type": "code",
   "execution_count": 15,
   "id": "48865b19",
   "metadata": {},
   "outputs": [
    {
     "data": {
      "text/plain": [
       "'tfidf.shape=(50419, 10000)'"
      ]
     },
     "metadata": {},
     "output_type": "display_data"
    },
    {
     "data": {
      "text/plain": [
       "\"type(tfidf)=<class 'scipy.sparse.csr.csr_matrix'>\""
      ]
     },
     "metadata": {},
     "output_type": "display_data"
    }
   ],
   "source": [
    "display(f'{tfidf.shape=}')\n",
    "\n",
    "display(f'{type(tfidf)=}')\n"
   ]
  },
  {
   "cell_type": "code",
   "execution_count": 16,
   "id": "7046fd63",
   "metadata": {},
   "outputs": [],
   "source": [
    "from sklearn.decomposition import TruncatedSVD"
   ]
  },
  {
   "cell_type": "code",
   "execution_count": 17,
   "id": "c2ae9c77",
   "metadata": {},
   "outputs": [
    {
     "name": "stdout",
     "output_type": "stream",
     "text": [
      "Total variance explained: 0.08\n"
     ]
    },
    {
     "data": {
      "image/png": "[encoded data removed]",
      "text/plain": [
       "<Figure size 432x288 with 1 Axes>"
      ]
     },
     "metadata": {
      "needs_background": "light"
     },
     "output_type": "display_data"
    },
    {
     "name": "stdout",
     "output_type": "stream",
     "text": [
      "CPU times: total: 7.16 s\n",
      "Wall time: 1.27 s\n"
     ]
    }
   ],
   "source": [
    "%%time\n",
    "\n",
    "svd = TruncatedSVD(n_components=30, random_state=42)\n",
    "X_svd = svd.fit_transform(tfidf)\n",
    "print(f\"Total variance explained: {np.sum(svd.explained_variance_ratio_):.2f}\")\n",
    "plt.plot(svd.explained_variance_)\n",
    "plt.show()"
   ]
  },
  {
   "cell_type": "code",
   "execution_count": 18,
   "id": "83a3dca0",
   "metadata": {},
   "outputs": [
    {
     "name": "stdout",
     "output_type": "stream",
     "text": [
      "Total variance explained: 0.03\n"
     ]
    },
    {
     "data": {
      "image/png": "[encoded data removed]",
      "text/plain": [
       "<Figure size 432x288 with 1 Axes>"
      ]
     },
     "metadata": {
      "needs_background": "light"
     },
     "output_type": "display_data"
    },
    {
     "name": "stdout",
     "output_type": "stream",
     "text": [
      "CPU times: total: 4.45 s\n",
      "Wall time: 779 ms\n"
     ]
    }
   ],
   "source": [
    "%%time\n",
    "\n",
    "svd = TruncatedSVD(n_components=7, random_state=42)\n",
    "X_svd = svd.fit_transform(tfidf)\n",
    "print(f\"Total variance explained: {np.sum(svd.explained_variance_ratio_):.2f}\")\n",
    "plt.plot(svd.explained_variance_)\n",
    "plt.show()"
   ]
  },
  {
   "cell_type": "code",
   "execution_count": 19,
   "id": "b64c4000",
   "metadata": {},
   "outputs": [
    {
     "data": {
      "text/plain": [
       "(50419, 7)"
      ]
     },
     "execution_count": 19,
     "metadata": {},
     "output_type": "execute_result"
    }
   ],
   "source": [
    "X_svd.shape"
   ]
  },
  {
   "cell_type": "code",
   "execution_count": 20,
   "id": "3ac86e15",
   "metadata": {},
   "outputs": [
    {
     "name": "stdout",
     "output_type": "stream",
     "text": [
      "Explained variance of the SVD step: 11.3%\n",
      "CPU times: total: 10.7 s\n",
      "Wall time: 1.88 s\n"
     ]
    }
   ],
   "source": [
    "%%time\n",
    "\n",
    "from sklearn.decomposition import TruncatedSVD\n",
    "from sklearn.pipeline import make_pipeline\n",
    "from sklearn.preprocessing import Normalizer\n",
    "\n",
    "\n",
    "lsa = make_pipeline(TruncatedSVD(n_components=50), Normalizer(copy=False))\n",
    "\n",
    "X_lsa = lsa.fit_transform(tfidf)\n",
    "explained_variance = lsa[0].explained_variance_ratio_.sum()\n",
    "\n",
    "print(f\"Explained variance of the SVD step: {explained_variance:.1%}\")"
   ]
  },
  {
   "cell_type": "code",
   "execution_count": 21,
   "id": "d67743f2",
   "metadata": {},
   "outputs": [
    {
     "data": {
      "text/plain": [
       "(50419, 50)"
      ]
     },
     "execution_count": 21,
     "metadata": {},
     "output_type": "execute_result"
    }
   ],
   "source": [
    "X_lsa.shape"
   ]
  },
  {
   "cell_type": "code",
   "execution_count": 22,
   "id": "1df84470",
   "metadata": {},
   "outputs": [
    {
     "name": "stdout",
     "output_type": "stream",
     "text": [
      "CPU times: total: 8.02 s\n",
      "Wall time: 852 ms\n"
     ]
    },
    {
     "data": {
      "text/plain": [
       "KMeans(init='random', n_clusters=4, random_state=42)"
      ]
     },
     "execution_count": 22,
     "metadata": {},
     "output_type": "execute_result"
    }
   ],
   "source": [
    "%%time\n",
    "\n",
    "from sklearn.cluster import KMeans\n",
    "\n",
    "km = KMeans(init=\"random\",\n",
    "            n_clusters=4,\n",
    "            n_init=10, \n",
    "            max_iter=300,\n",
    "            random_state=42)\n",
    "\n",
    "km.fit(X_lsa)"
   ]
  },
  {
   "cell_type": "code",
   "execution_count": 23,
   "id": "d3dc4811",
   "metadata": {},
   "outputs": [
    {
     "data": {
      "text/plain": [
       "array([0, 0, 0, ..., 3, 3, 3])"
      ]
     },
     "execution_count": 23,
     "metadata": {},
     "output_type": "execute_result"
    }
   ],
   "source": [
    "km.labels_"
   ]
  },
  {
   "cell_type": "code",
   "execution_count": 24,
   "id": "ed821b46",
   "metadata": {},
   "outputs": [
    {
     "data": {
      "text/plain": [
       "0    17586\n",
       "3    13847\n",
       "1     9723\n",
       "2     9263\n",
       "dtype: int64"
      ]
     },
     "execution_count": 24,
     "metadata": {},
     "output_type": "execute_result"
    }
   ],
   "source": [
    "pd.Series(km.labels_).value_counts()"
   ]
  },
  {
   "cell_type": "code",
   "execution_count": 25,
   "id": "998a6458",
   "metadata": {},
   "outputs": [
    {
     "name": "stdout",
     "output_type": "stream",
     "text": [
      "labels=[0, 1, 2, 3]\n",
      "categories=array(['Household', 'Books', 'Clothing & Accessories', 'Electronics'],\n",
      "      dtype=object)\n",
      "Best score so far = 0.856383506217894\n"
     ]
    }
   ],
   "source": [
    "from sklearn.metrics import accuracy_score\n",
    "from itertools import permutations\n",
    "labels = list(range(4))\n",
    "print(f'{labels=}')\n",
    "\n",
    "categories = df['product_category'].unique()\n",
    "print(f'{categories=}')\n",
    "\n",
    "def labels_permuted(labels, permutation, categories):\n",
    "    \"\"\"\n",
    "    This function applies a given permutation to the cluster labels produced by KMeans,\n",
    "    and returns a list of product_category names, corresponding to the permutation.\n",
    "    \"\"\"\n",
    "    permuted_labels = []\n",
    "    for x in labels:\n",
    "        ix = permutation[x]\n",
    "        permuted_labels.append(categories[ix])\n",
    "    return permuted_labels\n",
    "\n",
    "best_score = 0\n",
    "best_labels = None\n",
    "best_permutation = None\n",
    "for p in permutations(labels):\n",
    "    ## This loop generates all permutations of the cluster labels produced by KMeans.\n",
    "    ## We retain the permuted labels that produce the highest accuracy. In this way,\n",
    "    ## we discover which cluster corresponds to which product category.\n",
    "    permuted = labels_permuted(km.labels_, p, categories)\n",
    "    score = accuracy_score(df['product_category'], permuted)\n",
    "    if score > best_score:\n",
    "        best_labels = permuted\n",
    "        best_score = score\n",
    "        best_permutation = p\n",
    "        print(f'Best score so far = {score}')\n"
   ]
  },
  {
   "cell_type": "code",
   "execution_count": null,
   "id": "04ef3250",
   "metadata": {},
   "outputs": [],
   "source": []
  }
 ],
 "metadata": {
  "kernelspec": {
   "display_name": "Python 3 (ipykernel)",
   "language": "python",
   "name": "python3"
  },
  "language_info": {
   "codemirror_mode": {
    "name": "ipython",
    "version": 3
   },
   "file_extension": ".py",
   "mimetype": "text/x-python",
   "name": "python",
   "nbconvert_exporter": "python",
   "pygments_lexer": "ipython3",
   "version": "3.9.12"
  }
 },
 "nbformat": 4,
 "nbformat_minor": 5
}
