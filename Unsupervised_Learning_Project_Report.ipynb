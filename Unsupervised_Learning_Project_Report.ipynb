{
 "cells": [
  {
   "cell_type": "markdown",
   "id": "0fa9318f",
   "metadata": {},
   "source": [
    "# DTSA 5510 Unsupervised Algorithms in Machine Learning Final Project"
   ]
  },
  {
   "cell_type": "markdown",
   "id": "5c080ef5",
   "metadata": {},
   "source": [
    "## Project Overview\n",
    "\n",
    "This project will use unsupervised methods to group textual product descriptions from E-commerce websites. The data are from this Kaggle dataset: https://www.kaggle.com/datasets/saurabhshahane/ecommerce-text-classification . The data are all labeled with 4 classes: \"Electronics\", \"Household\", \"Books\" and \"Clothing & Accessories\". So the dataset is suitable for a supervised multiclass classification task. However we will apply unsupervised clustering methods to see how well we can group the text descriptions into the appropriate product categories. We will compare these results to supervised methods on the same data set.\n",
    "\n"
   ]
  },
  {
   "cell_type": "markdown",
   "id": "aca2155c",
   "metadata": {},
   "source": [
    "## Project Organization"
   ]
  },
  {
   "cell_type": "markdown",
   "id": "67d8ecad",
   "metadata": {},
   "source": [
    "The github repository for this project is located here:\n",
    "    \n",
    "https://github.com/albert-kepner/ECommerce_Text_Unsupervised"
   ]
  },
  {
   "cell_type": "markdown",
   "id": "301d39c1",
   "metadata": {},
   "source": [
    "This project is organized as 4 separate notebooks. We tried two unsupervised approaches and two supervised approaches to separate product descriptions using the same dataset. This is an NLP problem because the data are unstructured English text product descriptions.\n",
    "\n",
    "The four notebooks in the github project with these direct links:\n",
    "\n",
    "1. https://github.com/albert-kepner/ECommerce_Text_Unsupervised/blob/master/ECommerce_Text_Unsupervised_NMF.ipynb\n",
    "\n",
    "2. https://github.com/albert-kepner/ECommerce_Text_Unsupervised/blob/master/ECommerce_SVD_KMeans_Unsupervised.ipynb\n",
    "\n",
    "3.\n",
    "\n",
    "4."
   ]
  }
 ],
 "metadata": {
  "kernelspec": {
   "display_name": "Python 3 (ipykernel)",
   "language": "python",
   "name": "python3"
  },
  "language_info": {
   "codemirror_mode": {
    "name": "ipython",
    "version": 3
   },
   "file_extension": ".py",
   "mimetype": "text/x-python",
   "name": "python",
   "nbconvert_exporter": "python",
   "pygments_lexer": "ipython3",
   "version": "3.9.12"
  }
 },
 "nbformat": 4,
 "nbformat_minor": 5
}
