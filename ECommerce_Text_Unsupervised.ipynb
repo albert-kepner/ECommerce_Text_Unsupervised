{
 "cells": [
  {
   "cell_type": "markdown",
   "id": "2502b9f7",
   "metadata": {},
   "source": [
    "# ECommerce_Text"
   ]
  },
  {
   "cell_type": "markdown",
   "id": "f557e53b",
   "metadata": {},
   "source": [
    "## Project Overview"
   ]
  },
  {
   "cell_type": "markdown",
   "id": "2dd21b37",
   "metadata": {},
   "source": [
    "This project will use unsupervised methods to group textual product descriptions from E-commerce websites. The data are from this Kaggle dataset: https://www.kaggle.com/datasets/saurabhshahane/ecommerce-text-classification . The data are all labeled with 4 classes: \"Electronics\", \"Household\", \"Books\" and \"Clothing & Accessories\". So the dataset is suitable for a supervised multiclass classification task. However we will apply unsupervised clustering methods to see how well we can group the text descriptions into the appropriate product categories."
   ]
  },
  {
   "cell_type": "markdown",
   "id": "6a3c5cb5",
   "metadata": {},
   "source": [
    "## Project Organization"
   ]
  },
  {
   "cell_type": "markdown",
   "id": "f2957f62",
   "metadata": {},
   "source": [
    "## Data Loading and Exploratory Data Analysis"
   ]
  },
  {
   "cell_type": "code",
   "execution_count": 1,
   "id": "ee08e86d",
   "metadata": {},
   "outputs": [],
   "source": [
    "import gensim\n",
    "import nltk\n",
    "import numpy as np\n",
    "import pandas as pd\n",
    "import re\n",
    "from sklearn.feature_extraction.text import ENGLISH_STOP_WORDS\n",
    "from sklearn.decomposition import NMF\n",
    "from sklearn.feature_extraction.text import TfidfVectorizer\n",
    "from collections import Counter\n",
    "import seaborn as sns\n",
    "import matplotlib.pyplot as plt"
   ]
  },
  {
   "cell_type": "code",
   "execution_count": 2,
   "id": "786c8f2d",
   "metadata": {},
   "outputs": [
    {
     "data": {
      "text/html": [
       "<div>\n",
       "<style scoped>\n",
       "    .dataframe tbody tr th:only-of-type {\n",
       "        vertical-align: middle;\n",
       "    }\n",
       "\n",
       "    .dataframe tbody tr th {\n",
       "        vertical-align: top;\n",
       "    }\n",
       "\n",
       "    .dataframe thead th {\n",
       "        text-align: right;\n",
       "    }\n",
       "</style>\n",
       "<table border=\"1\" class=\"dataframe\">\n",
       "  <thead>\n",
       "    <tr style=\"text-align: right;\">\n",
       "      <th></th>\n",
       "      <th>product_category</th>\n",
       "      <th>raw_text</th>\n",
       "    </tr>\n",
       "  </thead>\n",
       "  <tbody>\n",
       "    <tr>\n",
       "      <th>0</th>\n",
       "      <td>Household</td>\n",
       "      <td>Paper Plane Design Framed Wall Hanging Motivat...</td>\n",
       "    </tr>\n",
       "    <tr>\n",
       "      <th>1</th>\n",
       "      <td>Household</td>\n",
       "      <td>SAF 'Floral' Framed Painting (Wood, 30 inch x ...</td>\n",
       "    </tr>\n",
       "    <tr>\n",
       "      <th>2</th>\n",
       "      <td>Household</td>\n",
       "      <td>SAF 'UV Textured Modern Art Print Framed' Pain...</td>\n",
       "    </tr>\n",
       "    <tr>\n",
       "      <th>3</th>\n",
       "      <td>Household</td>\n",
       "      <td>SAF Flower Print Framed Painting (Synthetic, 1...</td>\n",
       "    </tr>\n",
       "    <tr>\n",
       "      <th>4</th>\n",
       "      <td>Household</td>\n",
       "      <td>Incredible Gifts India Wooden Happy Birthday U...</td>\n",
       "    </tr>\n",
       "    <tr>\n",
       "      <th>...</th>\n",
       "      <td>...</td>\n",
       "      <td>...</td>\n",
       "    </tr>\n",
       "    <tr>\n",
       "      <th>50420</th>\n",
       "      <td>Electronics</td>\n",
       "      <td>Strontium MicroSD Class 10 8GB Memory Card (Bl...</td>\n",
       "    </tr>\n",
       "    <tr>\n",
       "      <th>50421</th>\n",
       "      <td>Electronics</td>\n",
       "      <td>CrossBeats Wave Waterproof Bluetooth Wireless ...</td>\n",
       "    </tr>\n",
       "    <tr>\n",
       "      <th>50422</th>\n",
       "      <td>Electronics</td>\n",
       "      <td>Karbonn Titanium Wind W4 (White) Karbonn Titan...</td>\n",
       "    </tr>\n",
       "    <tr>\n",
       "      <th>50423</th>\n",
       "      <td>Electronics</td>\n",
       "      <td>Samsung Guru FM Plus (SM-B110E/D, Black) Colou...</td>\n",
       "    </tr>\n",
       "    <tr>\n",
       "      <th>50424</th>\n",
       "      <td>Electronics</td>\n",
       "      <td>Micromax Canvas Win W121 (White)</td>\n",
       "    </tr>\n",
       "  </tbody>\n",
       "</table>\n",
       "<p>50425 rows × 2 columns</p>\n",
       "</div>"
      ],
      "text/plain": [
       "      product_category                                           raw_text\n",
       "0            Household  Paper Plane Design Framed Wall Hanging Motivat...\n",
       "1            Household  SAF 'Floral' Framed Painting (Wood, 30 inch x ...\n",
       "2            Household  SAF 'UV Textured Modern Art Print Framed' Pain...\n",
       "3            Household  SAF Flower Print Framed Painting (Synthetic, 1...\n",
       "4            Household  Incredible Gifts India Wooden Happy Birthday U...\n",
       "...                ...                                                ...\n",
       "50420      Electronics  Strontium MicroSD Class 10 8GB Memory Card (Bl...\n",
       "50421      Electronics  CrossBeats Wave Waterproof Bluetooth Wireless ...\n",
       "50422      Electronics  Karbonn Titanium Wind W4 (White) Karbonn Titan...\n",
       "50423      Electronics  Samsung Guru FM Plus (SM-B110E/D, Black) Colou...\n",
       "50424      Electronics                   Micromax Canvas Win W121 (White)\n",
       "\n",
       "[50425 rows x 2 columns]"
      ]
     },
     "execution_count": 2,
     "metadata": {},
     "output_type": "execute_result"
    }
   ],
   "source": [
    "## Read the data set from a CSV file\n",
    "## There is no header row in the input file.\n",
    "## The first column is the label or Product_Category, and the 2nd column is\n",
    "## the product and description as a string.\n",
    "df = pd.read_csv('./data/ecommerceDataset.csv',header=None)\n",
    "\n",
    "df.columns=['product_category','raw_text']\n",
    "df"
   ]
  },
  {
   "cell_type": "code",
   "execution_count": 3,
   "id": "bc39198e",
   "metadata": {},
   "outputs": [
    {
     "data": {
      "text/plain": [
       "Household                 19313\n",
       "Books                     11820\n",
       "Electronics               10621\n",
       "Clothing & Accessories     8671\n",
       "Name: product_category, dtype: int64"
      ]
     },
     "execution_count": 3,
     "metadata": {},
     "output_type": "execute_result"
    }
   ],
   "source": [
    "## Count the occurences of each product category\n",
    "df['product_category'].value_counts()"
   ]
  },
  {
   "cell_type": "markdown",
   "id": "0aea6615",
   "metadata": {},
   "source": [
    "### Data Cleaning \n"
   ]
  },
  {
   "cell_type": "markdown",
   "id": "c2d7ff38",
   "metadata": {},
   "source": [
    "The data has no missing values, but the product descriptions are free-form text. We plan to use scikit-learn TF-IDF to extract features from each product description. But the first steps are to convert all the text to lower case, remove all punctuation and non-alphabetic characters, and remove English stop words."
   ]
  },
  {
   "cell_type": "code",
   "execution_count": 4,
   "id": "e454a647",
   "metadata": {},
   "outputs": [],
   "source": [
    "match_non_alpha = re.compile(r'[^-a-z]+')\n",
    "\n",
    "def clean_words(text):\n",
    "    \"\"\"\n",
    "    1) Change all text to lower case.\n",
    "    2) Substitute space for all non-alphabetic characters (allow hyphen to remain)\n",
    "    3) Split into word tokens and drop English stop words (using ENGLISH_STOP_WORDS from sklearn.feature_extraction.text\n",
    "    4) Remove single letter tokens\n",
    "    4) Return a string which concatenates all remaining words in each text.\n",
    "    \"\"\"\n",
    "    text2 = match_non_alpha.sub(r' ',text.lower())\n",
    "    tokens = text2.split(' ')\n",
    "    cleaned = []\n",
    "    for token in tokens:\n",
    "        ## Also remove single letter tokens, \n",
    "        ## Also remove English stop words from scikit-learn feature_extraction\n",
    "        if len(token) > 1 and token not in ENGLISH_STOP_WORDS:\n",
    "            cleaned.append(token)\n",
    "    clean_text = ' '.join(cleaned)\n",
    "    return clean_text\n",
    "        \n",
    "## function to count words in text\n",
    "def count_words(text):\n",
    "    return len (text.split(' '))"
   ]
  },
  {
   "cell_type": "code",
   "execution_count": 5,
   "id": "8668f9a8",
   "metadata": {},
   "outputs": [
    {
     "data": {
      "text/html": [
       "<div>\n",
       "<style scoped>\n",
       "    .dataframe tbody tr th:only-of-type {\n",
       "        vertical-align: middle;\n",
       "    }\n",
       "\n",
       "    .dataframe tbody tr th {\n",
       "        vertical-align: top;\n",
       "    }\n",
       "\n",
       "    .dataframe thead th {\n",
       "        text-align: right;\n",
       "    }\n",
       "</style>\n",
       "<table border=\"1\" class=\"dataframe\">\n",
       "  <thead>\n",
       "    <tr style=\"text-align: right;\">\n",
       "      <th></th>\n",
       "      <th>product_category</th>\n",
       "      <th>raw_text</th>\n",
       "      <th>cleaned_text</th>\n",
       "    </tr>\n",
       "  </thead>\n",
       "  <tbody>\n",
       "    <tr>\n",
       "      <th>0</th>\n",
       "      <td>Household</td>\n",
       "      <td>Paper Plane Design Framed Wall Hanging Motivat...</td>\n",
       "      <td>paper plane design framed wall hanging motivat...</td>\n",
       "    </tr>\n",
       "    <tr>\n",
       "      <th>1</th>\n",
       "      <td>Household</td>\n",
       "      <td>SAF 'Floral' Framed Painting (Wood, 30 inch x ...</td>\n",
       "      <td>saf floral framed painting wood inch inch spec...</td>\n",
       "    </tr>\n",
       "    <tr>\n",
       "      <th>2</th>\n",
       "      <td>Household</td>\n",
       "      <td>SAF 'UV Textured Modern Art Print Framed' Pain...</td>\n",
       "      <td>saf uv textured modern art print framed painti...</td>\n",
       "    </tr>\n",
       "    <tr>\n",
       "      <th>3</th>\n",
       "      <td>Household</td>\n",
       "      <td>SAF Flower Print Framed Painting (Synthetic, 1...</td>\n",
       "      <td>saf flower print framed painting synthetic inc...</td>\n",
       "    </tr>\n",
       "    <tr>\n",
       "      <th>4</th>\n",
       "      <td>Household</td>\n",
       "      <td>Incredible Gifts India Wooden Happy Birthday U...</td>\n",
       "      <td>incredible gifts india wooden happy birthday u...</td>\n",
       "    </tr>\n",
       "    <tr>\n",
       "      <th>...</th>\n",
       "      <td>...</td>\n",
       "      <td>...</td>\n",
       "      <td>...</td>\n",
       "    </tr>\n",
       "    <tr>\n",
       "      <th>50420</th>\n",
       "      <td>Electronics</td>\n",
       "      <td>Strontium MicroSD Class 10 8GB Memory Card (Bl...</td>\n",
       "      <td>strontium microsd class gb memory card black m...</td>\n",
       "    </tr>\n",
       "    <tr>\n",
       "      <th>50421</th>\n",
       "      <td>Electronics</td>\n",
       "      <td>CrossBeats Wave Waterproof Bluetooth Wireless ...</td>\n",
       "      <td>crossbeats wave waterproof bluetooth wireless ...</td>\n",
       "    </tr>\n",
       "    <tr>\n",
       "      <th>50422</th>\n",
       "      <td>Electronics</td>\n",
       "      <td>Karbonn Titanium Wind W4 (White) Karbonn Titan...</td>\n",
       "      <td>karbonn titanium wind white karbonn titanium w...</td>\n",
       "    </tr>\n",
       "    <tr>\n",
       "      <th>50423</th>\n",
       "      <td>Electronics</td>\n",
       "      <td>Samsung Guru FM Plus (SM-B110E/D, Black) Colou...</td>\n",
       "      <td>samsung guru fm plus sm-b black colour black c...</td>\n",
       "    </tr>\n",
       "    <tr>\n",
       "      <th>50424</th>\n",
       "      <td>Electronics</td>\n",
       "      <td>Micromax Canvas Win W121 (White)</td>\n",
       "      <td>micromax canvas win white</td>\n",
       "    </tr>\n",
       "  </tbody>\n",
       "</table>\n",
       "<p>50425 rows × 3 columns</p>\n",
       "</div>"
      ],
      "text/plain": [
       "      product_category                                           raw_text  \\\n",
       "0            Household  Paper Plane Design Framed Wall Hanging Motivat...   \n",
       "1            Household  SAF 'Floral' Framed Painting (Wood, 30 inch x ...   \n",
       "2            Household  SAF 'UV Textured Modern Art Print Framed' Pain...   \n",
       "3            Household  SAF Flower Print Framed Painting (Synthetic, 1...   \n",
       "4            Household  Incredible Gifts India Wooden Happy Birthday U...   \n",
       "...                ...                                                ...   \n",
       "50420      Electronics  Strontium MicroSD Class 10 8GB Memory Card (Bl...   \n",
       "50421      Electronics  CrossBeats Wave Waterproof Bluetooth Wireless ...   \n",
       "50422      Electronics  Karbonn Titanium Wind W4 (White) Karbonn Titan...   \n",
       "50423      Electronics  Samsung Guru FM Plus (SM-B110E/D, Black) Colou...   \n",
       "50424      Electronics                   Micromax Canvas Win W121 (White)   \n",
       "\n",
       "                                            cleaned_text  \n",
       "0      paper plane design framed wall hanging motivat...  \n",
       "1      saf floral framed painting wood inch inch spec...  \n",
       "2      saf uv textured modern art print framed painti...  \n",
       "3      saf flower print framed painting synthetic inc...  \n",
       "4      incredible gifts india wooden happy birthday u...  \n",
       "...                                                  ...  \n",
       "50420  strontium microsd class gb memory card black m...  \n",
       "50421  crossbeats wave waterproof bluetooth wireless ...  \n",
       "50422  karbonn titanium wind white karbonn titanium w...  \n",
       "50423  samsung guru fm plus sm-b black colour black c...  \n",
       "50424                          micromax canvas win white  \n",
       "\n",
       "[50425 rows x 3 columns]"
      ]
     },
     "execution_count": 5,
     "metadata": {},
     "output_type": "execute_result"
    }
   ],
   "source": [
    "df['cleaned_text'] = df['raw_text'].apply(clean_words)\n",
    "df"
   ]
  },
  {
   "cell_type": "code",
   "execution_count": 6,
   "id": "a2132bbb",
   "metadata": {},
   "outputs": [
    {
     "data": {
      "text/html": [
       "<div>\n",
       "<style scoped>\n",
       "    .dataframe tbody tr th:only-of-type {\n",
       "        vertical-align: middle;\n",
       "    }\n",
       "\n",
       "    .dataframe tbody tr th {\n",
       "        vertical-align: top;\n",
       "    }\n",
       "\n",
       "    .dataframe thead th {\n",
       "        text-align: right;\n",
       "    }\n",
       "</style>\n",
       "<table border=\"1\" class=\"dataframe\">\n",
       "  <thead>\n",
       "    <tr style=\"text-align: right;\">\n",
       "      <th></th>\n",
       "      <th>product_category</th>\n",
       "      <th>raw_text</th>\n",
       "      <th>cleaned_text</th>\n",
       "      <th>word_counts</th>\n",
       "    </tr>\n",
       "  </thead>\n",
       "  <tbody>\n",
       "    <tr>\n",
       "      <th>0</th>\n",
       "      <td>Household</td>\n",
       "      <td>Paper Plane Design Framed Wall Hanging Motivat...</td>\n",
       "      <td>paper plane design framed wall hanging motivat...</td>\n",
       "      <td>121</td>\n",
       "    </tr>\n",
       "    <tr>\n",
       "      <th>1</th>\n",
       "      <td>Household</td>\n",
       "      <td>SAF 'Floral' Framed Painting (Wood, 30 inch x ...</td>\n",
       "      <td>saf floral framed painting wood inch inch spec...</td>\n",
       "      <td>36</td>\n",
       "    </tr>\n",
       "    <tr>\n",
       "      <th>2</th>\n",
       "      <td>Household</td>\n",
       "      <td>SAF 'UV Textured Modern Art Print Framed' Pain...</td>\n",
       "      <td>saf uv textured modern art print framed painti...</td>\n",
       "      <td>114</td>\n",
       "    </tr>\n",
       "    <tr>\n",
       "      <th>3</th>\n",
       "      <td>Household</td>\n",
       "      <td>SAF Flower Print Framed Painting (Synthetic, 1...</td>\n",
       "      <td>saf flower print framed painting synthetic inc...</td>\n",
       "      <td>92</td>\n",
       "    </tr>\n",
       "    <tr>\n",
       "      <th>4</th>\n",
       "      <td>Household</td>\n",
       "      <td>Incredible Gifts India Wooden Happy Birthday U...</td>\n",
       "      <td>incredible gifts india wooden happy birthday u...</td>\n",
       "      <td>91</td>\n",
       "    </tr>\n",
       "    <tr>\n",
       "      <th>...</th>\n",
       "      <td>...</td>\n",
       "      <td>...</td>\n",
       "      <td>...</td>\n",
       "      <td>...</td>\n",
       "    </tr>\n",
       "    <tr>\n",
       "      <th>50420</th>\n",
       "      <td>Electronics</td>\n",
       "      <td>Strontium MicroSD Class 10 8GB Memory Card (Bl...</td>\n",
       "      <td>strontium microsd class gb memory card black m...</td>\n",
       "      <td>57</td>\n",
       "    </tr>\n",
       "    <tr>\n",
       "      <th>50421</th>\n",
       "      <td>Electronics</td>\n",
       "      <td>CrossBeats Wave Waterproof Bluetooth Wireless ...</td>\n",
       "      <td>crossbeats wave waterproof bluetooth wireless ...</td>\n",
       "      <td>11</td>\n",
       "    </tr>\n",
       "    <tr>\n",
       "      <th>50422</th>\n",
       "      <td>Electronics</td>\n",
       "      <td>Karbonn Titanium Wind W4 (White) Karbonn Titan...</td>\n",
       "      <td>karbonn titanium wind white karbonn titanium w...</td>\n",
       "      <td>153</td>\n",
       "    </tr>\n",
       "    <tr>\n",
       "      <th>50423</th>\n",
       "      <td>Electronics</td>\n",
       "      <td>Samsung Guru FM Plus (SM-B110E/D, Black) Colou...</td>\n",
       "      <td>samsung guru fm plus sm-b black colour black c...</td>\n",
       "      <td>201</td>\n",
       "    </tr>\n",
       "    <tr>\n",
       "      <th>50424</th>\n",
       "      <td>Electronics</td>\n",
       "      <td>Micromax Canvas Win W121 (White)</td>\n",
       "      <td>micromax canvas win white</td>\n",
       "      <td>4</td>\n",
       "    </tr>\n",
       "  </tbody>\n",
       "</table>\n",
       "<p>50425 rows × 4 columns</p>\n",
       "</div>"
      ],
      "text/plain": [
       "      product_category                                           raw_text  \\\n",
       "0            Household  Paper Plane Design Framed Wall Hanging Motivat...   \n",
       "1            Household  SAF 'Floral' Framed Painting (Wood, 30 inch x ...   \n",
       "2            Household  SAF 'UV Textured Modern Art Print Framed' Pain...   \n",
       "3            Household  SAF Flower Print Framed Painting (Synthetic, 1...   \n",
       "4            Household  Incredible Gifts India Wooden Happy Birthday U...   \n",
       "...                ...                                                ...   \n",
       "50420      Electronics  Strontium MicroSD Class 10 8GB Memory Card (Bl...   \n",
       "50421      Electronics  CrossBeats Wave Waterproof Bluetooth Wireless ...   \n",
       "50422      Electronics  Karbonn Titanium Wind W4 (White) Karbonn Titan...   \n",
       "50423      Electronics  Samsung Guru FM Plus (SM-B110E/D, Black) Colou...   \n",
       "50424      Electronics                   Micromax Canvas Win W121 (White)   \n",
       "\n",
       "                                            cleaned_text  word_counts  \n",
       "0      paper plane design framed wall hanging motivat...          121  \n",
       "1      saf floral framed painting wood inch inch spec...           36  \n",
       "2      saf uv textured modern art print framed painti...          114  \n",
       "3      saf flower print framed painting synthetic inc...           92  \n",
       "4      incredible gifts india wooden happy birthday u...           91  \n",
       "...                                                  ...          ...  \n",
       "50420  strontium microsd class gb memory card black m...           57  \n",
       "50421  crossbeats wave waterproof bluetooth wireless ...           11  \n",
       "50422  karbonn titanium wind white karbonn titanium w...          153  \n",
       "50423  samsung guru fm plus sm-b black colour black c...          201  \n",
       "50424                          micromax canvas win white            4  \n",
       "\n",
       "[50425 rows x 4 columns]"
      ]
     },
     "execution_count": 6,
     "metadata": {},
     "output_type": "execute_result"
    }
   ],
   "source": [
    "df['word_counts'] = df['cleaned_text'].apply(count_words)\n",
    "df"
   ]
  },
  {
   "cell_type": "code",
   "execution_count": 7,
   "id": "34275cdd",
   "metadata": {},
   "outputs": [
    {
     "data": {
      "text/plain": [
       "count    50425.000000\n",
       "mean        69.289479\n",
       "std         84.336362\n",
       "min          1.000000\n",
       "25%         24.000000\n",
       "50%         49.000000\n",
       "75%         91.000000\n",
       "max       4016.000000\n",
       "Name: word_counts, dtype: float64"
      ]
     },
     "execution_count": 7,
     "metadata": {},
     "output_type": "execute_result"
    }
   ],
   "source": [
    "df['word_counts'].describe()"
   ]
  },
  {
   "cell_type": "code",
   "execution_count": 8,
   "id": "b6b35067",
   "metadata": {},
   "outputs": [
    {
     "data": {
      "text/html": [
       "<div>\n",
       "<style scoped>\n",
       "    .dataframe tbody tr th:only-of-type {\n",
       "        vertical-align: middle;\n",
       "    }\n",
       "\n",
       "    .dataframe tbody tr th {\n",
       "        vertical-align: top;\n",
       "    }\n",
       "\n",
       "    .dataframe thead th {\n",
       "        text-align: right;\n",
       "    }\n",
       "</style>\n",
       "<table border=\"1\" class=\"dataframe\">\n",
       "  <thead>\n",
       "    <tr style=\"text-align: right;\">\n",
       "      <th></th>\n",
       "      <th>product_category</th>\n",
       "      <th>raw_text</th>\n",
       "      <th>cleaned_text</th>\n",
       "      <th>word_counts</th>\n",
       "    </tr>\n",
       "  </thead>\n",
       "  <tbody>\n",
       "    <tr>\n",
       "      <th>21375</th>\n",
       "      <td>Books</td>\n",
       "      <td>281 and Beyond</td>\n",
       "      <td></td>\n",
       "      <td>1</td>\n",
       "    </tr>\n",
       "    <tr>\n",
       "      <th>23178</th>\n",
       "      <td>Books</td>\n",
       "      <td>281 and Beyond</td>\n",
       "      <td></td>\n",
       "      <td>1</td>\n",
       "    </tr>\n",
       "    <tr>\n",
       "      <th>23976</th>\n",
       "      <td>Books</td>\n",
       "      <td>281 and Beyond</td>\n",
       "      <td></td>\n",
       "      <td>1</td>\n",
       "    </tr>\n",
       "    <tr>\n",
       "      <th>27423</th>\n",
       "      <td>Books</td>\n",
       "      <td>Becoming</td>\n",
       "      <td></td>\n",
       "      <td>1</td>\n",
       "    </tr>\n",
       "    <tr>\n",
       "      <th>30549</th>\n",
       "      <td>Books</td>\n",
       "      <td>Becoming</td>\n",
       "      <td></td>\n",
       "      <td>1</td>\n",
       "    </tr>\n",
       "    <tr>\n",
       "      <th>39330</th>\n",
       "      <td>Clothing &amp; Accessories</td>\n",
       "      <td></td>\n",
       "      <td></td>\n",
       "      <td>1</td>\n",
       "    </tr>\n",
       "  </tbody>\n",
       "</table>\n",
       "</div>"
      ],
      "text/plain": [
       "             product_category         raw_text cleaned_text  word_counts\n",
       "21375                   Books  281 and Beyond                          1\n",
       "23178                   Books  281 and Beyond                          1\n",
       "23976                   Books  281 and Beyond                          1\n",
       "27423                   Books         Becoming                         1\n",
       "30549                   Books         Becoming                         1\n",
       "39330  Clothing & Accessories                                          1"
      ]
     },
     "execution_count": 8,
     "metadata": {},
     "output_type": "execute_result"
    }
   ],
   "source": [
    "## It turns out that after removing stop words and puctuation, etc, \n",
    "## A few of the cleaned_text values are empty. We will drop these rows\n",
    "## from the data frame.\n",
    "\n",
    "df[df['cleaned_text']=='']"
   ]
  },
  {
   "cell_type": "code",
   "execution_count": 9,
   "id": "f83bb941",
   "metadata": {},
   "outputs": [
    {
     "data": {
      "text/html": [
       "<div>\n",
       "<style scoped>\n",
       "    .dataframe tbody tr th:only-of-type {\n",
       "        vertical-align: middle;\n",
       "    }\n",
       "\n",
       "    .dataframe tbody tr th {\n",
       "        vertical-align: top;\n",
       "    }\n",
       "\n",
       "    .dataframe thead th {\n",
       "        text-align: right;\n",
       "    }\n",
       "</style>\n",
       "<table border=\"1\" class=\"dataframe\">\n",
       "  <thead>\n",
       "    <tr style=\"text-align: right;\">\n",
       "      <th></th>\n",
       "      <th>product_category</th>\n",
       "      <th>raw_text</th>\n",
       "      <th>cleaned_text</th>\n",
       "      <th>word_counts</th>\n",
       "    </tr>\n",
       "  </thead>\n",
       "  <tbody>\n",
       "    <tr>\n",
       "      <th>0</th>\n",
       "      <td>Household</td>\n",
       "      <td>Paper Plane Design Framed Wall Hanging Motivat...</td>\n",
       "      <td>paper plane design framed wall hanging motivat...</td>\n",
       "      <td>121</td>\n",
       "    </tr>\n",
       "    <tr>\n",
       "      <th>1</th>\n",
       "      <td>Household</td>\n",
       "      <td>SAF 'Floral' Framed Painting (Wood, 30 inch x ...</td>\n",
       "      <td>saf floral framed painting wood inch inch spec...</td>\n",
       "      <td>36</td>\n",
       "    </tr>\n",
       "    <tr>\n",
       "      <th>2</th>\n",
       "      <td>Household</td>\n",
       "      <td>SAF 'UV Textured Modern Art Print Framed' Pain...</td>\n",
       "      <td>saf uv textured modern art print framed painti...</td>\n",
       "      <td>114</td>\n",
       "    </tr>\n",
       "    <tr>\n",
       "      <th>3</th>\n",
       "      <td>Household</td>\n",
       "      <td>SAF Flower Print Framed Painting (Synthetic, 1...</td>\n",
       "      <td>saf flower print framed painting synthetic inc...</td>\n",
       "      <td>92</td>\n",
       "    </tr>\n",
       "    <tr>\n",
       "      <th>4</th>\n",
       "      <td>Household</td>\n",
       "      <td>Incredible Gifts India Wooden Happy Birthday U...</td>\n",
       "      <td>incredible gifts india wooden happy birthday u...</td>\n",
       "      <td>91</td>\n",
       "    </tr>\n",
       "    <tr>\n",
       "      <th>...</th>\n",
       "      <td>...</td>\n",
       "      <td>...</td>\n",
       "      <td>...</td>\n",
       "      <td>...</td>\n",
       "    </tr>\n",
       "    <tr>\n",
       "      <th>50420</th>\n",
       "      <td>Electronics</td>\n",
       "      <td>Strontium MicroSD Class 10 8GB Memory Card (Bl...</td>\n",
       "      <td>strontium microsd class gb memory card black m...</td>\n",
       "      <td>57</td>\n",
       "    </tr>\n",
       "    <tr>\n",
       "      <th>50421</th>\n",
       "      <td>Electronics</td>\n",
       "      <td>CrossBeats Wave Waterproof Bluetooth Wireless ...</td>\n",
       "      <td>crossbeats wave waterproof bluetooth wireless ...</td>\n",
       "      <td>11</td>\n",
       "    </tr>\n",
       "    <tr>\n",
       "      <th>50422</th>\n",
       "      <td>Electronics</td>\n",
       "      <td>Karbonn Titanium Wind W4 (White) Karbonn Titan...</td>\n",
       "      <td>karbonn titanium wind white karbonn titanium w...</td>\n",
       "      <td>153</td>\n",
       "    </tr>\n",
       "    <tr>\n",
       "      <th>50423</th>\n",
       "      <td>Electronics</td>\n",
       "      <td>Samsung Guru FM Plus (SM-B110E/D, Black) Colou...</td>\n",
       "      <td>samsung guru fm plus sm-b black colour black c...</td>\n",
       "      <td>201</td>\n",
       "    </tr>\n",
       "    <tr>\n",
       "      <th>50424</th>\n",
       "      <td>Electronics</td>\n",
       "      <td>Micromax Canvas Win W121 (White)</td>\n",
       "      <td>micromax canvas win white</td>\n",
       "      <td>4</td>\n",
       "    </tr>\n",
       "  </tbody>\n",
       "</table>\n",
       "<p>50419 rows × 4 columns</p>\n",
       "</div>"
      ],
      "text/plain": [
       "      product_category                                           raw_text  \\\n",
       "0            Household  Paper Plane Design Framed Wall Hanging Motivat...   \n",
       "1            Household  SAF 'Floral' Framed Painting (Wood, 30 inch x ...   \n",
       "2            Household  SAF 'UV Textured Modern Art Print Framed' Pain...   \n",
       "3            Household  SAF Flower Print Framed Painting (Synthetic, 1...   \n",
       "4            Household  Incredible Gifts India Wooden Happy Birthday U...   \n",
       "...                ...                                                ...   \n",
       "50420      Electronics  Strontium MicroSD Class 10 8GB Memory Card (Bl...   \n",
       "50421      Electronics  CrossBeats Wave Waterproof Bluetooth Wireless ...   \n",
       "50422      Electronics  Karbonn Titanium Wind W4 (White) Karbonn Titan...   \n",
       "50423      Electronics  Samsung Guru FM Plus (SM-B110E/D, Black) Colou...   \n",
       "50424      Electronics                   Micromax Canvas Win W121 (White)   \n",
       "\n",
       "                                            cleaned_text  word_counts  \n",
       "0      paper plane design framed wall hanging motivat...          121  \n",
       "1      saf floral framed painting wood inch inch spec...           36  \n",
       "2      saf uv textured modern art print framed painti...          114  \n",
       "3      saf flower print framed painting synthetic inc...           92  \n",
       "4      incredible gifts india wooden happy birthday u...           91  \n",
       "...                                                  ...          ...  \n",
       "50420  strontium microsd class gb memory card black m...           57  \n",
       "50421  crossbeats wave waterproof bluetooth wireless ...           11  \n",
       "50422  karbonn titanium wind white karbonn titanium w...          153  \n",
       "50423  samsung guru fm plus sm-b black colour black c...          201  \n",
       "50424                          micromax canvas win white            4  \n",
       "\n",
       "[50419 rows x 4 columns]"
      ]
     },
     "execution_count": 9,
     "metadata": {},
     "output_type": "execute_result"
    }
   ],
   "source": [
    "df=df[df['cleaned_text']!='']\n",
    "df"
   ]
  },
  {
   "cell_type": "code",
   "execution_count": 10,
   "id": "c05abc06",
   "metadata": {},
   "outputs": [
    {
     "data": {
      "text/plain": [
       "count    50419.000000\n",
       "mean        69.297606\n",
       "std         84.338090\n",
       "min          1.000000\n",
       "25%         24.000000\n",
       "50%         49.000000\n",
       "75%         91.000000\n",
       "max       4016.000000\n",
       "Name: word_counts, dtype: float64"
      ]
     },
     "execution_count": 10,
     "metadata": {},
     "output_type": "execute_result"
    }
   ],
   "source": [
    "## Descriptive statistics for word counts in the cleaned product descriptions\n",
    "df['word_counts'].describe()"
   ]
  },
  {
   "cell_type": "code",
   "execution_count": 11,
   "id": "7fc2103e",
   "metadata": {},
   "outputs": [
    {
     "name": "stdout",
     "output_type": "stream",
     "text": [
      "Total Words in the corpus = 3493916\n"
     ]
    },
    {
     "data": {
      "text/plain": [
       "count     3493916\n",
       "unique      76577\n",
       "top          size\n",
       "freq        13063\n",
       "dtype: object"
      ]
     },
     "metadata": {},
     "output_type": "display_data"
    },
    {
     "data": {
      "text/html": [
       "<div>\n",
       "<style scoped>\n",
       "    .dataframe tbody tr th:only-of-type {\n",
       "        vertical-align: middle;\n",
       "    }\n",
       "\n",
       "    .dataframe tbody tr th {\n",
       "        vertical-align: top;\n",
       "    }\n",
       "\n",
       "    .dataframe thead th {\n",
       "        text-align: right;\n",
       "    }\n",
       "</style>\n",
       "<table border=\"1\" class=\"dataframe\">\n",
       "  <thead>\n",
       "    <tr style=\"text-align: right;\">\n",
       "      <th></th>\n",
       "      <th>word</th>\n",
       "      <th>frequency</th>\n",
       "    </tr>\n",
       "  </thead>\n",
       "  <tbody>\n",
       "    <tr>\n",
       "      <th>0</th>\n",
       "      <td>size</td>\n",
       "      <td>13063</td>\n",
       "    </tr>\n",
       "    <tr>\n",
       "      <th>1</th>\n",
       "      <td>book</td>\n",
       "      <td>12658</td>\n",
       "    </tr>\n",
       "    <tr>\n",
       "      <th>2</th>\n",
       "      <td>use</td>\n",
       "      <td>12166</td>\n",
       "    </tr>\n",
       "    <tr>\n",
       "      <th>3</th>\n",
       "      <td>set</td>\n",
       "      <td>12136</td>\n",
       "    </tr>\n",
       "    <tr>\n",
       "      <th>4</th>\n",
       "      <td>easy</td>\n",
       "      <td>11476</td>\n",
       "    </tr>\n",
       "    <tr>\n",
       "      <th>5</th>\n",
       "      <td>quality</td>\n",
       "      <td>11215</td>\n",
       "    </tr>\n",
       "    <tr>\n",
       "      <th>6</th>\n",
       "      <td>product</td>\n",
       "      <td>10963</td>\n",
       "    </tr>\n",
       "    <tr>\n",
       "      <th>7</th>\n",
       "      <td>black</td>\n",
       "      <td>10813</td>\n",
       "    </tr>\n",
       "    <tr>\n",
       "      <th>8</th>\n",
       "      <td>home</td>\n",
       "      <td>10496</td>\n",
       "    </tr>\n",
       "    <tr>\n",
       "      <th>9</th>\n",
       "      <td>design</td>\n",
       "      <td>10357</td>\n",
       "    </tr>\n",
       "    <tr>\n",
       "      <th>10</th>\n",
       "      <td>author</td>\n",
       "      <td>9902</td>\n",
       "    </tr>\n",
       "    <tr>\n",
       "      <th>11</th>\n",
       "      <td>cm</td>\n",
       "      <td>9342</td>\n",
       "    </tr>\n",
       "    <tr>\n",
       "      <th>12</th>\n",
       "      <td>mm</td>\n",
       "      <td>9107</td>\n",
       "    </tr>\n",
       "    <tr>\n",
       "      <th>13</th>\n",
       "      <td>high</td>\n",
       "      <td>8915</td>\n",
       "    </tr>\n",
       "    <tr>\n",
       "      <th>14</th>\n",
       "      <td>color</td>\n",
       "      <td>8878</td>\n",
       "    </tr>\n",
       "    <tr>\n",
       "      <th>15</th>\n",
       "      <td>new</td>\n",
       "      <td>8811</td>\n",
       "    </tr>\n",
       "    <tr>\n",
       "      <th>16</th>\n",
       "      <td>power</td>\n",
       "      <td>8706</td>\n",
       "    </tr>\n",
       "    <tr>\n",
       "      <th>17</th>\n",
       "      <td>time</td>\n",
       "      <td>8315</td>\n",
       "    </tr>\n",
       "    <tr>\n",
       "      <th>18</th>\n",
       "      <td>cotton</td>\n",
       "      <td>7919</td>\n",
       "    </tr>\n",
       "    <tr>\n",
       "      <th>19</th>\n",
       "      <td>usb</td>\n",
       "      <td>7629</td>\n",
       "    </tr>\n",
       "    <tr>\n",
       "      <th>20</th>\n",
       "      <td>best</td>\n",
       "      <td>7300</td>\n",
       "    </tr>\n",
       "    <tr>\n",
       "      <th>21</th>\n",
       "      <td>perfect</td>\n",
       "      <td>7295</td>\n",
       "    </tr>\n",
       "    <tr>\n",
       "      <th>22</th>\n",
       "      <td>comes</td>\n",
       "      <td>7205</td>\n",
       "    </tr>\n",
       "    <tr>\n",
       "      <th>23</th>\n",
       "      <td>make</td>\n",
       "      <td>6950</td>\n",
       "    </tr>\n",
       "    <tr>\n",
       "      <th>24</th>\n",
       "      <td>light</td>\n",
       "      <td>6949</td>\n",
       "    </tr>\n",
       "    <tr>\n",
       "      <th>25</th>\n",
       "      <td>features</td>\n",
       "      <td>6903</td>\n",
       "    </tr>\n",
       "    <tr>\n",
       "      <th>26</th>\n",
       "      <td>used</td>\n",
       "      <td>6719</td>\n",
       "    </tr>\n",
       "    <tr>\n",
       "      <th>27</th>\n",
       "      <td>material</td>\n",
       "      <td>6563</td>\n",
       "    </tr>\n",
       "    <tr>\n",
       "      <th>28</th>\n",
       "      <td>women</td>\n",
       "      <td>6523</td>\n",
       "    </tr>\n",
       "    <tr>\n",
       "      <th>29</th>\n",
       "      <td>designed</td>\n",
       "      <td>6369</td>\n",
       "    </tr>\n",
       "    <tr>\n",
       "      <th>30</th>\n",
       "      <td>steel</td>\n",
       "      <td>6369</td>\n",
       "    </tr>\n",
       "    <tr>\n",
       "      <th>31</th>\n",
       "      <td>water</td>\n",
       "      <td>6368</td>\n",
       "    </tr>\n",
       "    <tr>\n",
       "      <th>32</th>\n",
       "      <td>life</td>\n",
       "      <td>6005</td>\n",
       "    </tr>\n",
       "    <tr>\n",
       "      <th>33</th>\n",
       "      <td>white</td>\n",
       "      <td>5897</td>\n",
       "    </tr>\n",
       "    <tr>\n",
       "      <th>34</th>\n",
       "      <td>look</td>\n",
       "      <td>5840</td>\n",
       "    </tr>\n",
       "    <tr>\n",
       "      <th>35</th>\n",
       "      <td>style</td>\n",
       "      <td>5733</td>\n",
       "    </tr>\n",
       "    <tr>\n",
       "      <th>36</th>\n",
       "      <td>long</td>\n",
       "      <td>5674</td>\n",
       "    </tr>\n",
       "    <tr>\n",
       "      <th>37</th>\n",
       "      <td>like</td>\n",
       "      <td>5537</td>\n",
       "    </tr>\n",
       "    <tr>\n",
       "      <th>38</th>\n",
       "      <td>world</td>\n",
       "      <td>5454</td>\n",
       "    </tr>\n",
       "    <tr>\n",
       "      <th>39</th>\n",
       "      <td>books</td>\n",
       "      <td>5265</td>\n",
       "    </tr>\n",
       "    <tr>\n",
       "      <th>40</th>\n",
       "      <td>makes</td>\n",
       "      <td>5158</td>\n",
       "    </tr>\n",
       "    <tr>\n",
       "      <th>41</th>\n",
       "      <td>great</td>\n",
       "      <td>5143</td>\n",
       "    </tr>\n",
       "    <tr>\n",
       "      <th>42</th>\n",
       "      <td>table</td>\n",
       "      <td>4993</td>\n",
       "    </tr>\n",
       "    <tr>\n",
       "      <th>43</th>\n",
       "      <td>years</td>\n",
       "      <td>4955</td>\n",
       "    </tr>\n",
       "    <tr>\n",
       "      <th>44</th>\n",
       "      <td>men</td>\n",
       "      <td>4901</td>\n",
       "    </tr>\n",
       "    <tr>\n",
       "      <th>45</th>\n",
       "      <td>india</td>\n",
       "      <td>4863</td>\n",
       "    </tr>\n",
       "    <tr>\n",
       "      <th>46</th>\n",
       "      <td>camera</td>\n",
       "      <td>4860</td>\n",
       "    </tr>\n",
       "    <tr>\n",
       "      <th>47</th>\n",
       "      <td>just</td>\n",
       "      <td>4820</td>\n",
       "    </tr>\n",
       "    <tr>\n",
       "      <th>48</th>\n",
       "      <td>range</td>\n",
       "      <td>4790</td>\n",
       "    </tr>\n",
       "    <tr>\n",
       "      <th>49</th>\n",
       "      <td>colour</td>\n",
       "      <td>4788</td>\n",
       "    </tr>\n",
       "  </tbody>\n",
       "</table>\n",
       "</div>"
      ],
      "text/plain": [
       "        word  frequency\n",
       "0       size      13063\n",
       "1       book      12658\n",
       "2        use      12166\n",
       "3        set      12136\n",
       "4       easy      11476\n",
       "5    quality      11215\n",
       "6    product      10963\n",
       "7      black      10813\n",
       "8       home      10496\n",
       "9     design      10357\n",
       "10    author       9902\n",
       "11        cm       9342\n",
       "12        mm       9107\n",
       "13      high       8915\n",
       "14     color       8878\n",
       "15       new       8811\n",
       "16     power       8706\n",
       "17      time       8315\n",
       "18    cotton       7919\n",
       "19       usb       7629\n",
       "20      best       7300\n",
       "21   perfect       7295\n",
       "22     comes       7205\n",
       "23      make       6950\n",
       "24     light       6949\n",
       "25  features       6903\n",
       "26      used       6719\n",
       "27  material       6563\n",
       "28     women       6523\n",
       "29  designed       6369\n",
       "30     steel       6369\n",
       "31     water       6368\n",
       "32      life       6005\n",
       "33     white       5897\n",
       "34      look       5840\n",
       "35     style       5733\n",
       "36      long       5674\n",
       "37      like       5537\n",
       "38     world       5454\n",
       "39     books       5265\n",
       "40     makes       5158\n",
       "41     great       5143\n",
       "42     table       4993\n",
       "43     years       4955\n",
       "44       men       4901\n",
       "45     india       4863\n",
       "46    camera       4860\n",
       "47      just       4820\n",
       "48     range       4790\n",
       "49    colour       4788"
      ]
     },
     "execution_count": 11,
     "metadata": {},
     "output_type": "execute_result"
    }
   ],
   "source": [
    "## Create a list of all (cleaned) words used in the product descriptions\n",
    "## and identify the 50 most frequently occuring words\n",
    "corpus = list(df['cleaned_text'])\n",
    "\n",
    "all_words = []\n",
    "for text in corpus:\n",
    "    all_words.extend(text.split(' '))\n",
    "    \n",
    "print(f'Total Words in the corpus = {len(all_words)}')\n",
    "\n",
    "all_word_series = pd.Series(all_words)\n",
    "display(all_word_series.describe())\n",
    "    \n",
    "top_50 = pd.DataFrame(\n",
    "    Counter(all_words).most_common(50),\n",
    "    columns=['word', 'frequency']\n",
    ")\n",
    "\n",
    "top_50"
   ]
  },
  {
   "cell_type": "code",
   "execution_count": 12,
   "id": "7b7748b2",
   "metadata": {},
   "outputs": [
    {
     "data": {
      "image/png": "[encoded data removed]",
      "text/plain": [
       "<Figure size 1440x720 with 1 Axes>"
      ]
     },
     "metadata": {
      "needs_background": "light"
     },
     "output_type": "display_data"
    }
   ],
   "source": [
    "# Plot a bar chart for the top 50 most frequently occuring words\n",
    "fig = plt.figure(figsize=(20,10))\n",
    "\n",
    "g = sns.barplot(\n",
    "    x='word',\n",
    "    y='frequency',\n",
    "    data=top_50,\n",
    ")\n",
    "\n",
    "g.set_xticklabels(\n",
    "    g.get_xticklabels(),\n",
    "    rotation=45,\n",
    "    fontsize=14\n",
    ")\n",
    "\n",
    "plt.yticks(fontsize=14)\n",
    "plt.xlabel('Words', fontsize=14)\n",
    "plt.ylabel('Frequency', fontsize=14)\n",
    "plt.title('Top 50 Words', fontsize=17)\n",
    "\n",
    "plt.show()"
   ]
  },
  {
   "cell_type": "markdown",
   "id": "3b31ef3b",
   "metadata": {},
   "source": [
    "# Feature Creation using scikit-learn TF-IDF\n",
    "\n",
    "\n",
    "We will be using <b>TF-IDF</b> or Term Frequency - Inverse Document Frequency as a way to encode features from the collections of words in each document (product description). The <b>corpus</b> is the set of all words appearing in all documents being considered. A <b>term</b> is a word that appears in the corpus, or a short sequence of specific words. When sequences of words are considered they are called  <b>n-grams</b>. The NGRAM_RANGE defines the minimum and maximum length of the sequences considered.\n",
    "\n",
    "The ti=f-idf value is proportial to the number of times a term is used in each specific document, and is weighted lower for terms that appear frequently in many documents in the corpus. Terms that appear frequently in given documents may be strong indications of the topics in the document, but terms that appear frequently across many documement provide little specific information.\n",
    "\n",
    "The scikit-learn TfidfVectorizer determines the frequency of all the terms in the corpus across all documents and across\n",
    "each specific document being considered. The N most frequent terms in the corpus are used to define a fixed length vector.\n",
    "This vector is computed for each specific document by computing the tf-idf value of that term in that document for each of the  N most frequent terms in the corpus. This results a fixed-length vector encoding for the collection of words in each document.\n"
   ]
  },
  {
   "cell_type": "code",
   "execution_count": 13,
   "id": "044cb57a",
   "metadata": {},
   "outputs": [
    {
     "name": "stdout",
     "output_type": "stream",
     "text": [
      "CPU times: total: 7.12 s\n",
      "Wall time: 7.13 s\n"
     ]
    }
   ],
   "source": [
    "%%time\n",
    "\n",
    "MAX_FEATURES = 10000 ## Build a vocabulary using the only the top max_features ordered by term frequency across the corpus.\n",
    "MIN_DF = 1 ## Minimum Term Frequency Per Document. Ignore terms that appear less than this number of times in a given document\n",
    "MAX_DF = 0.85 ## Maximum Document Frequency. Ignore terms that appear in more than this proportion of all documents\n",
    "NGRAM_RANGE = (1,2)\n",
    "\n",
    "## Create the tf-idf vectors for all the train and test documents as one corpus\n",
    "tfidf_vectorizer = TfidfVectorizer(\n",
    "    min_df=MIN_DF,\n",
    "    max_df=MAX_DF,\n",
    "    max_features=MAX_FEATURES,\n",
    "    ngram_range=NGRAM_RANGE,\n",
    ")\n",
    "\n",
    "all_docs = list(df['cleaned_text'])\n",
    "tfidf = tfidf_vectorizer.fit_transform(all_docs)\n",
    "\n",
    "# Save the feature names for later to create topic summaries\n",
    "tfidf_feature_names = tfidf_vectorizer.get_feature_names_out()"
   ]
  },
  {
   "cell_type": "markdown",
   "id": "1447f544",
   "metadata": {},
   "source": [
    "## Matrix Factorization"
   ]
  },
  {
   "cell_type": "code",
   "execution_count": 14,
   "id": "6048cd9f",
   "metadata": {},
   "outputs": [
    {
     "name": "stdout",
     "output_type": "stream",
     "text": [
      "CPU times: total: 11.3 s\n",
      "Wall time: 1.97 s\n"
     ]
    }
   ],
   "source": [
    "%%time\n",
    "\n",
    "NUMBER_OF_CATEGORIES = 4  ## We know that there are 4 product categries.\n",
    "## We will attempt NMF matrix factorization to infer a weight for each category\n",
    "## in each document.\n",
    "\n",
    "MAX_NMF_ITERATIONS = 5000\n",
    "\n",
    "# Run the nmf model\n",
    "nmf = NMF(\n",
    "    n_components=NUMBER_OF_CATEGORIES, ## 4 product categories in these product descriptions\n",
    "    init='nndsvd',\n",
    "    max_iter=MAX_NMF_ITERATIONS,\n",
    "    l1_ratio=0.0,\n",
    "    solver='cd',\n",
    "    alpha_W=0.0, \n",
    "    alpha_H='same',\n",
    "    tol=1e-5,\n",
    "    random_state=42\n",
    ").fit(tfidf)"
   ]
  },
  {
   "cell_type": "code",
   "execution_count": 15,
   "id": "e87b80b1",
   "metadata": {},
   "outputs": [
    {
     "name": "stdout",
     "output_type": "stream",
     "text": [
      "nmf_components.shape = (4, 10000)\n",
      "document_weights.shape = (50419, 4)\n",
      "CPU times: total: 5.94 s\n",
      "Wall time: 4.37 s\n"
     ]
    }
   ],
   "source": [
    "%%time\n",
    "document_weights = nmf.transform(tfidf_vectorizer.transform(all_docs))\n",
    "nmf_components = nmf.components_\n",
    "\n",
    "print(f'nmf_components.shape = {nmf_components.shape}')\n",
    "print(f'document_weights.shape = {document_weights.shape}')"
   ]
  },
  {
   "cell_type": "markdown",
   "id": "03b28b9d",
   "metadata": {},
   "source": [
    "The original matrix of 50419 documents by 10000 tf-idf weights has been factored (approximately) into the product of two matracies <b>document_weights</b> (50419 by 4 ) times <b>nmf_components</b> (4 by 10000). We want to determine most important terms (by tf-idf weighting) in each of the 4 categories. We will extract the 10 highest weighted terms for each category from the nmf_components matrix.\n",
    "This can be used as a rough indication of which of the 4 products is in each of the four categories.\n"
   ]
  },
  {
   "cell_type": "code",
   "execution_count": 16,
   "id": "a92c4429",
   "metadata": {},
   "outputs": [
    {
     "name": "stdout",
     "output_type": "stream",
     "text": [
      "topic_index = 0\n",
      "['usb', 'mm', 'black', 'cm', 'steel', 'bluetooth', 'easy', 'use', 'home', 'high']\n",
      "topic_index = 1\n",
      "['content', 'students', 'students receive', 'requirements students', 'exam', 'receive', 'team', 'requirements', 'various', 'books']\n",
      "topic_index = 2\n",
      "['cotton', 'women', 'men', 'wear', 'fit', 'fabric', 'shirt', 'set', 'look', 'soft']\n",
      "topic_index = 3\n",
      "['book', 'author', 'books', 'review', 'world', 'new', 'university', 'india', 'life', 'times']\n"
     ]
    }
   ],
   "source": [
    "TOP_N_TERMS = 10\n",
    "\n",
    "def top_term_indices(topic, n_top_terms):\n",
    "    \"\"\"\n",
    "    return the indices of the n top terms in each topic\n",
    "    \"\"\"\n",
    "    return topic.argsort()[:-n_top_terms - 1:-1] \n",
    "\n",
    "for topic_index, topic in enumerate(nmf_components):\n",
    "    print(f'topic_index = {topic_index}')\n",
    "    topic_top_terms = top_term_indices(topic, TOP_N_TERMS)\n",
    "    ## We have the indices of the top terms in each topic\n",
    "    ## Now use these indices to create a list of terms for each topic\n",
    "    top_terms = [ tfidf_feature_names[idx] for idx in topic_top_terms]\n",
    "    print(top_terms)"
   ]
  },
  {
   "cell_type": "code",
   "execution_count": 17,
   "id": "05345c6f",
   "metadata": {},
   "outputs": [
    {
     "data": {
      "text/plain": [
       "Household                 19313\n",
       "Books                     11815\n",
       "Electronics               10621\n",
       "Clothing & Accessories     8670\n",
       "Name: product_category, dtype: int64"
      ]
     },
     "execution_count": 17,
     "metadata": {},
     "output_type": "execute_result"
    }
   ],
   "source": [
    "## The orginal product categories were...\n",
    "## Count the occurences of each product category\n",
    "df['product_category'].value_counts()"
   ]
  },
  {
   "cell_type": "markdown",
   "id": "fbdde982",
   "metadata": {},
   "source": [
    "So from the top 10 terms it appears that:\n",
    "    \n",
    "topic_index 0 represents Electronics\n",
    "\n",
    "Topic index 2 represents clothing & accessories\n",
    "\n",
    "Topic index 3 represents books\n",
    "\n",
    "The remaining topic index 1 must represent household"
   ]
  },
  {
   "cell_type": "code",
   "execution_count": 18,
   "id": "944c3c9b",
   "metadata": {},
   "outputs": [
    {
     "data": {
      "text/plain": [
       "{0: 'Electronics', 1: 'Household', 2: 'Clothing & Accessories', 3: 'Books'}"
      ]
     },
     "execution_count": 18,
     "metadata": {},
     "output_type": "execute_result"
    }
   ],
   "source": [
    "topic_index_to_name_map = {0: \"Electronics\", 1: \"Household\", 2: \"Clothing & Accessories\", 3: \"Books\"}\n",
    "topic_index_to_name_map"
   ]
  },
  {
   "cell_type": "markdown",
   "id": "0a27118a",
   "metadata": {},
   "source": [
    "The document_weights matrix (50419 by 4 )  gives a weighting of each of the 4 possible topics in each document. For classification purposes, we just want to find the strongest weight for each document, and use its index as the index of the topic, to look up the topic name."
   ]
  },
  {
   "cell_type": "code",
   "execution_count": 19,
   "id": "5baac0d7",
   "metadata": {},
   "outputs": [],
   "source": [
    "predicted_indices = np.argmax(document_weights,axis=1)\n",
    "predicted_topic_names = [topic_index_to_name_map[idx] for idx in predicted_indices]\n",
    "# print(predicted_topic_names)"
   ]
  },
  {
   "cell_type": "code",
   "execution_count": 20,
   "id": "3b8093ee",
   "metadata": {},
   "outputs": [
    {
     "name": "stdout",
     "output_type": "stream",
     "text": [
      "0.5696\n"
     ]
    }
   ],
   "source": [
    "## We can add the predicted topic names to a data frame along side the true labels\n",
    "df2 = pd.DataFrame({'product_category': df['product_category'], 'predicted_topic': predicted_topic_names})\n",
    "df2\n",
    "\n",
    "## We can the compute the accuracy of the NMF predicted topics against the true prodocut categories\n",
    "\n",
    "accuracy = np.sum(df2['product_category']==df2['predicted_topic'])/len(df)\n",
    "print(f'Accuracy: {accuracy:.4f}')"
   ]
  },
  {
   "cell_type": "code",
   "execution_count": 21,
   "id": "3f6f3d5b",
   "metadata": {},
   "outputs": [
    {
     "data": {
      "image/png": "[encoded data removed]",
      "text/plain": [
       "<Figure size 864x576 with 2 Axes>"
      ]
     },
     "metadata": {
      "needs_background": "light"
     },
     "output_type": "display_data"
    }
   ],
   "source": [
    "# display confusion matrix here \n",
    "\n",
    "from sklearn.metrics import confusion_matrix\n",
    "import seaborn as sns\n",
    "import matplotlib.pyplot as plt \n",
    "label_names = ['Books','Clothing...','Electronics','Household']\n",
    "cm = confusion_matrix(df2['product_category'], df2['predicted_topic'])\n",
    "fig = plt.figure(figsize=(12,8))\n",
    "ax= plt.subplot()\n",
    "sns.heatmap(cm, annot=True, fmt='g', ax=ax);  #annot=True to annotate cells, ftm='g' to disable scientific notation\n",
    "\n",
    "# labels, title and ticks\n",
    "ax.set_xlabel('Predicted labels');ax.set_ylabel('True labels'); \n",
    "ax.set_title('Confusion Matrix'); \n",
    "ax.xaxis.set_ticklabels(label_names); \n",
    "ax.yaxis.set_ticklabels(label_names);"
   ]
  },
  {
   "cell_type": "code",
   "execution_count": 22,
   "id": "d67edf8e",
   "metadata": {},
   "outputs": [
    {
     "data": {
      "text/plain": [
       "Household                 19313\n",
       "Books                     11815\n",
       "Electronics               10621\n",
       "Clothing & Accessories     8670\n",
       "Name: product_category, dtype: int64"
      ]
     },
     "execution_count": 22,
     "metadata": {},
     "output_type": "execute_result"
    }
   ],
   "source": [
    "df['product_category'].value_counts()"
   ]
  },
  {
   "cell_type": "code",
   "execution_count": 23,
   "id": "1c635bde",
   "metadata": {},
   "outputs": [
    {
     "name": "stdout",
     "output_type": "stream",
     "text": [
      "Fraction of Electronics + Clothing + Books classified correctly: 0.9230\n",
      "Household items error rate: 0.9994\n"
     ]
    }
   ],
   "source": [
    "print ( f'''Fraction of Electronics + Clothing + Books classified correctly: { (10083 + 8422 + 10205)/(50419 - 19313) :.4f}''' )\n",
    "print ( f'Household items error rate: {1 - 11/19313 :.4f}' )"
   ]
  },
  {
   "cell_type": "markdown",
   "id": "b6adc163",
   "metadata": {},
   "source": [
    "## 57% Accuracy, so what went wrong?"
   ]
  },
  {
   "cell_type": "markdown",
   "id": "d845d39d",
   "metadata": {},
   "source": [
    "Examining the confusion matix above we can see that a large majority of the products in in Books, Clothing, and Electronics categories were correctly grouped with other products of the same type. However 99.94% of the Household items were misclassified into the remaining 3 categories. Perhaps there is not enough distinctive information in these product descriptions to separate household from other types of items with an unsupervised algorithm."
   ]
  },
  {
   "cell_type": "markdown",
   "id": "b4eb3be0",
   "metadata": {},
   "source": [
    "# Try KMeans Clustering"
   ]
  },
  {
   "cell_type": "code",
   "execution_count": 29,
   "id": "15b6a23b",
   "metadata": {},
   "outputs": [
    {
     "data": {
      "text/plain": [
       "scipy.sparse.csr.csr_matrix"
      ]
     },
     "metadata": {},
     "output_type": "display_data"
    },
    {
     "data": {
      "text/plain": [
       "numpy.matrix"
      ]
     },
     "metadata": {},
     "output_type": "display_data"
    },
    {
     "data": {
      "text/plain": [
       "(50419, 10000)"
      ]
     },
     "metadata": {},
     "output_type": "display_data"
    },
    {
     "name": "stdout",
     "output_type": "stream",
     "text": [
      "CPU times: total: 14min 54s\n",
      "Wall time: 4min 57s\n"
     ]
    }
   ],
   "source": [
    "%%time\n",
    "\n",
    "from scipy.cluster.vq import kmeans, whiten\n",
    "\n",
    "display(type(tfidf))\n",
    "tfidf_matrix = tfidf.todense()\n",
    "display(type(tfidf_matrix))\n",
    "\n",
    "## whiten function normalizes a group of observations. \n",
    "## Each feature is divided by its standard deviation across all observations to give it unit variance\n",
    "features = whiten(tfidf_matrix)\n",
    "display(features.shape)\n",
    "\n",
    "num_clusters = 4 ## four product categories\n",
    "\n",
    "cluster_centers, distortion = kmeans(features, num_clusters)\n",
    "\n"
   ]
  },
  {
   "cell_type": "code",
   "execution_count": 32,
   "id": "b2776136",
   "metadata": {},
   "outputs": [
    {
     "name": "stdout",
     "output_type": "stream",
     "text": [
      "index: 0 terms: ['cotton', 'women', 'wear', 'fit', 'fabric', 'men', 'look', 'comfortable', 'soft', 'casual']\n",
      "index: 1 terms: ['israeli', 'israel', 'foremost', 'spent years', 'personalities', 'secret', 'feb', 'selling books', 'want know', 'arab']\n",
      "index: 2 terms: ['applied pasting', 'border remove', 'bubbles repeat', 'cure minimum', 'days decal', 'minimum days', 'repeat required', 'apply desired', 'contamination simply', 'required apply']\n",
      "index: 3 terms: ['use', 'easy', 'high', 'quality', 'author', 'home', 'black', 'product', 'design', 'color']\n"
     ]
    }
   ],
   "source": [
    "# Generate terms from the tfidf_vectorizer object\n",
    "terms = tfidf_vectorizer.get_feature_names_out()\n",
    "num_clusters = 4 ## four product categories\n",
    "\n",
    "for i in range(num_clusters):\n",
    "    # Sort the terms and print top 10 terms\n",
    "    center_terms = dict(zip(terms, list(cluster_centers[i])))\n",
    "    sorted_terms = sorted(center_terms, key=center_terms.get, reverse=True)\n",
    "    print(f'index: {i} terms: {sorted_terms[:10]}')"
   ]
  },
  {
   "cell_type": "code",
   "execution_count": 33,
   "id": "1b4521ff",
   "metadata": {},
   "outputs": [
    {
     "data": {
      "text/plain": [
       "{3: 'Electronics', 2: 'Household', 0: 'Clothing & Accessories', 1: 'Books'}"
      ]
     },
     "execution_count": 33,
     "metadata": {},
     "output_type": "execute_result"
    }
   ],
   "source": [
    "topic_index_to_name_map = {3: \"Electronics\", 2: \"Household\", 0: \"Clothing & Accessories\", 1: \"Books\"}\n",
    "topic_index_to_name_map"
   ]
  },
  {
   "cell_type": "code",
   "execution_count": 37,
   "id": "d694db66",
   "metadata": {},
   "outputs": [
    {
     "name": "stdout",
     "output_type": "stream",
     "text": [
      "CPU times: total: 3.03 s\n",
      "Wall time: 1.47 s\n"
     ]
    }
   ],
   "source": [
    "%%time\n",
    "\n",
    "from scipy.cluster.vq import vq\n",
    "\n",
    "## vq returns cluster index for each observation, and distance of each obs. to cluster center\n",
    "code, distance = vq(features, cluster_centers)\n",
    "\n",
    "## Now that we have an assigned cluster for each product description, and we have the mapping back to product names,\n",
    "## We can infer the KMeans prediction for each product, and determine accuracy."
   ]
  },
  {
   "cell_type": "code",
   "execution_count": 43,
   "id": "e60bf208",
   "metadata": {},
   "outputs": [
    {
     "name": "stdout",
     "output_type": "stream",
     "text": [
      "Accuracy: 0.3621\n"
     ]
    }
   ],
   "source": [
    "\n",
    "predicted_topic_names = [topic_index_to_name_map[idx] for idx in code]\n",
    "\n",
    "df2 = pd.DataFrame({'product_category': df['product_category'], 'predicted_topic': predicted_topic_names})\n",
    "\n",
    "accuracy = np.sum(df2['product_category']==df2['predicted_topic'])/len(df)\n",
    "print(f'Accuracy: {accuracy:.4f}')"
   ]
  },
  {
   "cell_type": "code",
   "execution_count": 44,
   "id": "9db16d7b",
   "metadata": {},
   "outputs": [
    {
     "data": {
      "image/png": "[encoded data removed]",
      "text/plain": [
       "<Figure size 864x576 with 2 Axes>"
      ]
     },
     "metadata": {
      "needs_background": "light"
     },
     "output_type": "display_data"
    }
   ],
   "source": [
    "from sklearn.metrics import confusion_matrix\n",
    "import seaborn as sns\n",
    "import matplotlib.pyplot as plt \n",
    "label_names = ['Books','Clothing...','Electronics','Household']\n",
    "cm = confusion_matrix(df2['product_category'], df2['predicted_topic'])\n",
    "fig = plt.figure(figsize=(12,8))\n",
    "ax= plt.subplot()\n",
    "sns.heatmap(cm, annot=True, fmt='g', ax=ax);  #annot=True to annotate cells, ftm='g' to disable scientific notation\n",
    "\n",
    "# labels, title and ticks\n",
    "ax.set_xlabel('Predicted labels');ax.set_ylabel('True labels'); \n",
    "ax.set_title('Confusion Matrix'); \n",
    "ax.xaxis.set_ticklabels(label_names); \n",
    "ax.yaxis.set_ticklabels(label_names);"
   ]
  },
  {
   "cell_type": "markdown",
   "id": "91c63774",
   "metadata": {},
   "source": [
    "The KMeans clustering performed much worse than the NMF solution with about 36% accuracy relative to the true labes. From the confusion matrix above it can be seen that KMeans put most of the Clothing into one cluster, but it tended to lump everything else into Electronics."
   ]
  },
  {
   "cell_type": "markdown",
   "id": "748497b7",
   "metadata": {},
   "source": [
    "# Redo NMF Matrix Factorization for just 3 Products: Books, Electronics, and Clothing"
   ]
  },
  {
   "cell_type": "code",
   "execution_count": 24,
   "id": "7fa97bca",
   "metadata": {},
   "outputs": [
    {
     "data": {
      "text/plain": [
       "count     31106\n",
       "unique        3\n",
       "top       Books\n",
       "freq      11815\n",
       "Name: product_category, dtype: object"
      ]
     },
     "metadata": {},
     "output_type": "display_data"
    },
    {
     "data": {
      "text/plain": [
       "Books                     11815\n",
       "Electronics               10621\n",
       "Clothing & Accessories     8670\n",
       "Name: product_category, dtype: int64"
      ]
     },
     "metadata": {},
     "output_type": "display_data"
    }
   ],
   "source": [
    "df_3prod = df[df['product_category']!='Household']\n",
    "display(df_3prod['product_category'].describe())\n",
    "display(df_3prod['product_category'].value_counts())"
   ]
  },
  {
   "cell_type": "code",
   "execution_count": 25,
   "id": "6e3afa32",
   "metadata": {},
   "outputs": [
    {
     "name": "stdout",
     "output_type": "stream",
     "text": [
      "Total Words in the corpus = 2189850\n"
     ]
    },
    {
     "data": {
      "text/plain": [
       "count     2189850\n",
       "unique      61303\n",
       "top          book\n",
       "freq        12173\n",
       "dtype: object"
      ]
     },
     "metadata": {},
     "output_type": "display_data"
    }
   ],
   "source": [
    "## Create a list of all (cleaned) words used in the product descriptions\n",
    "## and identify the 50 most frequently occuring words\n",
    "corpus = list(df_3prod['cleaned_text'])\n",
    "\n",
    "all_words = []\n",
    "for text in corpus:\n",
    "    all_words.extend(text.split(' '))\n",
    "    \n",
    "print(f'Total Words in the corpus = {len(all_words)}')\n",
    "\n",
    "all_word_series = pd.Series(all_words)\n",
    "display(all_word_series.describe())\n",
    "    \n",
    "top_50 = pd.DataFrame(\n",
    "    Counter(all_words).most_common(50),\n",
    "    columns=['word', 'frequency']\n",
    ")\n"
   ]
  },
  {
   "cell_type": "code",
   "execution_count": 26,
   "id": "6d91aa36",
   "metadata": {},
   "outputs": [
    {
     "data": {
      "image/png": "[encoded data removed]",
      "text/plain": [
       "<Figure size 1440x720 with 1 Axes>"
      ]
     },
     "metadata": {
      "needs_background": "light"
     },
     "output_type": "display_data"
    }
   ],
   "source": [
    "# Plot a bar chart for the top 50 most frequently occuring words\n",
    "fig = plt.figure(figsize=(20,10))\n",
    "\n",
    "g = sns.barplot(\n",
    "    x='word',\n",
    "    y='frequency',\n",
    "    data=top_50,\n",
    ")\n",
    "\n",
    "g.set_xticklabels(\n",
    "    g.get_xticklabels(),\n",
    "    rotation=45,\n",
    "    fontsize=14\n",
    ")\n",
    "\n",
    "plt.yticks(fontsize=14)\n",
    "plt.xlabel('Words', fontsize=14)\n",
    "plt.ylabel('Frequency', fontsize=14)\n",
    "plt.title('Top 50 Words', fontsize=17)\n",
    "\n",
    "plt.show()"
   ]
  },
  {
   "cell_type": "markdown",
   "id": "6e145796",
   "metadata": {},
   "source": [
    "## Feature Creation using scikit-learn TF-IDF"
   ]
  },
  {
   "cell_type": "code",
   "execution_count": 27,
   "id": "b0bd9f18",
   "metadata": {},
   "outputs": [
    {
     "name": "stdout",
     "output_type": "stream",
     "text": [
      "CPU times: total: 4.66 s\n",
      "Wall time: 4.68 s\n"
     ]
    }
   ],
   "source": [
    "%%time\n",
    "\n",
    "MAX_FEATURES = 10000 ## Build a vocabulary using the only the top max_features ordered by term frequency across the corpus.\n",
    "MIN_DF = 1 ## Minimum Term Frequency Per Document. Ignore terms that appear less than this number of times in a given document\n",
    "MAX_DF = 0.85 ## Maximum Document Frequency. Ignore terms that appear in more than this proportion of all documents\n",
    "NGRAM_RANGE = (1,2)\n",
    "\n",
    "## Create the tf-idf vectors for all the train and test documents as one corpus\n",
    "tfidf_vectorizer = TfidfVectorizer(\n",
    "    min_df=MIN_DF,\n",
    "    max_df=MAX_DF,\n",
    "    max_features=MAX_FEATURES,\n",
    "    ngram_range=NGRAM_RANGE,\n",
    ")\n",
    "\n",
    "all_docs = list(df_3prod['cleaned_text'])\n",
    "tfidf = tfidf_vectorizer.fit_transform(all_docs)\n",
    "\n",
    "# Save the feature names for later to create topic summaries\n",
    "tfidf_feature_names = tfidf_vectorizer.get_feature_names_out()"
   ]
  },
  {
   "cell_type": "code",
   "execution_count": 39,
   "id": "9e7ac64d",
   "metadata": {},
   "outputs": [
    {
     "data": {
      "text/plain": [
       "array(['aa', 'aa aaa', 'aa batteries', ..., 'zoook rocker', 'zotac', 'zx'],\n",
       "      dtype=object)"
      ]
     },
     "execution_count": 39,
     "metadata": {},
     "output_type": "execute_result"
    }
   ],
   "source": [
    "tfidf_vectorizer.get_feature_names_out()"
   ]
  },
  {
   "cell_type": "markdown",
   "id": "0dd00c83",
   "metadata": {},
   "source": [
    "## Matrix Factorization"
   ]
  },
  {
   "cell_type": "code",
   "execution_count": 28,
   "id": "a361fa1c",
   "metadata": {},
   "outputs": [
    {
     "name": "stdout",
     "output_type": "stream",
     "text": [
      "CPU times: total: 9.22 s\n",
      "Wall time: 1.6 s\n"
     ]
    }
   ],
   "source": [
    "%%time\n",
    "\n",
    "NUMBER_OF_CATEGORIES = 3  ## We know that there 3 remaining product categories in this data subset\n",
    "## We will attempt NMF matrix factorization to infer a weight for each category\n",
    "## in each document.\n",
    "\n",
    "MAX_NMF_ITERATIONS = 5000\n",
    "\n",
    "# Run the nmf model\n",
    "nmf = NMF(\n",
    "    n_components=NUMBER_OF_CATEGORIES, ## 3 product categories in these product descriptions\n",
    "    init='nndsvd',\n",
    "    max_iter=MAX_NMF_ITERATIONS,\n",
    "    l1_ratio=0.0,\n",
    "    solver='cd',\n",
    "    alpha_W=0.0, \n",
    "    alpha_H='same',\n",
    "    tol=1e-5,\n",
    "    random_state=42\n",
    ").fit(tfidf)"
   ]
  },
  {
   "cell_type": "code",
   "execution_count": 29,
   "id": "bfd37996",
   "metadata": {},
   "outputs": [
    {
     "name": "stdout",
     "output_type": "stream",
     "text": [
      "nmf_components.shape = (3, 10000)\n",
      "document_weights.shape = (31106, 3)\n",
      "CPU times: total: 4.3 s\n",
      "Wall time: 3.09 s\n"
     ]
    }
   ],
   "source": [
    "%%time\n",
    "document_weights = nmf.transform(tfidf_vectorizer.transform(all_docs))\n",
    "nmf_components = nmf.components_\n",
    "\n",
    "print(f'nmf_components.shape = {nmf_components.shape}')\n",
    "print(f'document_weights.shape = {document_weights.shape}')"
   ]
  },
  {
   "cell_type": "markdown",
   "id": "2a4181d2",
   "metadata": {},
   "source": [
    "The matrix of 31106 documents by 10000 tf-idf weights has been factored (approximately) into the product of two matracies <b>document_weights</b> (31106 by 3 ) times <b>nmf_components</b> (3 by 10000). We want to determine most important terms (by tf-idf weighting) in each of the 3 categories. We will extract the 10 highest weighted terms for each category from the nmf_components matrix.\n",
    "\n",
    "This can be used as a rough indication of which of the 3 remaining products is in each of the 3 categories."
   ]
  },
  {
   "cell_type": "code",
   "execution_count": 30,
   "id": "e51939db",
   "metadata": {},
   "outputs": [
    {
     "name": "stdout",
     "output_type": "stream",
     "text": [
      "topic_index = 0\n",
      "['usb', 'bluetooth', 'audio', 'wireless', 'mm', 'gb', 'cable', 'speaker', 'music', 'black']\n",
      "topic_index = 1\n",
      "['content', 'students', 'book', 'students receive', 'requirements students', 'exam', 'receive', 'team', 'books', 'requirements']\n",
      "topic_index = 2\n",
      "['cotton', 'women', 'men', 'wear', 'fit', 'fabric', 'shirt', 'look', 'set', 'girls']\n"
     ]
    }
   ],
   "source": [
    "TOP_N_TERMS = 10\n",
    "\n",
    "def top_term_indices(topic, n_top_terms):\n",
    "    \"\"\"\n",
    "    return the indices of the n top terms in each topic\n",
    "    \"\"\"\n",
    "    return topic.argsort()[:-n_top_terms - 1:-1] \n",
    "\n",
    "for topic_index, topic in enumerate(nmf_components):\n",
    "    print(f'topic_index = {topic_index}')\n",
    "    topic_top_terms = top_term_indices(topic, TOP_N_TERMS)\n",
    "    ## We have the indices of the top terms in each topic\n",
    "    ## Now use these indices to create a list of terms for each topic\n",
    "    top_terms = [ tfidf_feature_names[idx] for idx in topic_top_terms]\n",
    "    print(top_terms)"
   ]
  },
  {
   "cell_type": "code",
   "execution_count": 31,
   "id": "48161ac9",
   "metadata": {},
   "outputs": [
    {
     "data": {
      "text/plain": [
       "{0: 'Electronics', 1: 'Books', 2: 'Clothing & Accessories'}"
      ]
     },
     "execution_count": 31,
     "metadata": {},
     "output_type": "execute_result"
    }
   ],
   "source": [
    "topic_index_to_name_map = {0: \"Electronics\", 1: \"Books\", 2: \"Clothing & Accessories\"}\n",
    "topic_index_to_name_map"
   ]
  },
  {
   "cell_type": "markdown",
   "id": "66545de6",
   "metadata": {},
   "source": [
    "The document_weights matrix (31106 by 3 )  gives a weighting of each of the 3 possible topics in each document. For classification purposes, we just want to find the strongest weight for each document, and use its index as the index of the topic, to look up the topic name."
   ]
  },
  {
   "cell_type": "code",
   "execution_count": 32,
   "id": "606dd038",
   "metadata": {},
   "outputs": [],
   "source": [
    "predicted_indices = np.argmax(document_weights,axis=1)\n",
    "predicted_topic_names = [topic_index_to_name_map[idx] for idx in predicted_indices]\n",
    "# print(predicted_topic_names)"
   ]
  },
  {
   "cell_type": "code",
   "execution_count": 36,
   "id": "aee2ae3c",
   "metadata": {},
   "outputs": [
    {
     "name": "stdout",
     "output_type": "stream",
     "text": [
      "0.8218\n"
     ]
    }
   ],
   "source": [
    "## We can add the predicted topic names to a data frame along side the true labels\n",
    "df2 = pd.DataFrame({'product_category': df_3prod['product_category'], 'predicted_topic': predicted_topic_names})\n",
    "df2\n",
    "\n",
    "## We can the compute the accuracy of the NMF predicted topics against the true prodocut categories\n",
    "\n",
    "accuracy = np.sum(df2['product_category']==df2['predicted_topic'])/len(df_3prod)\n",
    "print(f'{accuracy:.4f}')"
   ]
  },
  {
   "cell_type": "code",
   "execution_count": 37,
   "id": "6e9d2f21",
   "metadata": {},
   "outputs": [
    {
     "data": {
      "image/png": "[encoded data removed]",
      "text/plain": [
       "<Figure size 864x576 with 2 Axes>"
      ]
     },
     "metadata": {
      "needs_background": "light"
     },
     "output_type": "display_data"
    }
   ],
   "source": [
    "# display confusion matrix here \n",
    "\n",
    "from sklearn.metrics import confusion_matrix\n",
    "import seaborn as sns\n",
    "import matplotlib.pyplot as plt \n",
    "label_names = ['Books','Clothing...','Electronics']\n",
    "cm = confusion_matrix(df2['product_category'], df2['predicted_topic'])\n",
    "fig = plt.figure(figsize=(12,8))\n",
    "ax= plt.subplot()\n",
    "sns.heatmap(cm, annot=True, fmt='g', ax=ax);  #annot=True to annotate cells, ftm='g' to disable scientific notation\n",
    "\n",
    "# labels, title and ticks\n",
    "ax.set_xlabel('Predicted labels');ax.set_ylabel('True labels'); \n",
    "ax.set_title('Confusion Matrix'); \n",
    "ax.xaxis.set_ticklabels(label_names); \n",
    "ax.yaxis.set_ticklabels(label_names);"
   ]
  },
  {
   "cell_type": "code",
   "execution_count": null,
   "id": "4c12c61b",
   "metadata": {},
   "outputs": [],
   "source": []
  }
 ],
 "metadata": {
  "kernelspec": {
   "display_name": "Python 3 (ipykernel)",
   "language": "python",
   "name": "python3"
  },
  "language_info": {
   "codemirror_mode": {
    "name": "ipython",
    "version": 3
   },
   "file_extension": ".py",
   "mimetype": "text/x-python",
   "name": "python",
   "nbconvert_exporter": "python",
   "pygments_lexer": "ipython3",
   "version": "3.9.12"
  }
 },
 "nbformat": 4,
 "nbformat_minor": 5
}
